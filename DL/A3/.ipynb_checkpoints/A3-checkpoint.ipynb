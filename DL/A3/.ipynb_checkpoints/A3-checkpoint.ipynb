{
 "cells": [
  {
   "cell_type": "markdown",
   "metadata": {
    "id": "8wM5PonpiQej"
   },
   "source": [
    "### 1. Problem statement\n",
    " - We are given Google stock price from 01/2012 to 12/2017. \n",
    " - The task is to predict the trend of the stock price for 01-06 2018. "
   ]
  },
  {
   "cell_type": "markdown",
   "metadata": {
    "id": "IrfoXIgBiQeu"
   },
   "source": [
    "### 2. Import library"
   ]
  },
  {
   "cell_type": "code",
   "execution_count": 58,
   "metadata": {
    "id": "bAxXKi3PiQez"
   },
   "outputs": [],
   "source": [
    "import numpy as np\n",
    "import matplotlib.pyplot as plt\n",
    "import pandas as pd\n",
    "from sklearn.preprocessing import MinMaxScaler\n",
    "from tensorflow.keras.models import Sequential\n",
    "from tensorflow.keras.layers import LSTM\n",
    "from tensorflow.keras.layers import Dense\n",
    "from tensorflow.keras.layers import Dropout"
   ]
  },
  {
   "cell_type": "markdown",
   "metadata": {
    "id": "0y3P76XdiQe7"
   },
   "source": [
    "### 3. Data processing"
   ]
  },
  {
   "cell_type": "markdown",
   "metadata": {
    "id": "K85xUznZiQe-"
   },
   "source": [
    "#### 3.0 import the data"
   ]
  },
  {
   "cell_type": "code",
   "execution_count": 59,
   "metadata": {
    "id": "y1RU95E-iQfB"
   },
   "outputs": [],
   "source": [
    "dataset_train = pd.read_csv('Google_Stock_Price_Train.csv')"
   ]
  },
  {
   "cell_type": "code",
   "execution_count": 60,
   "metadata": {
    "colab": {
     "base_uri": "https://localhost:8080/",
     "height": 206
    },
    "id": "VFE2ysiSiQfF",
    "outputId": "4345cffd-f668-4278-e3fc-cf3f800616ee"
   },
   "outputs": [
    {
     "data": {
      "text/html": [
       "\n",
       "  <div id=\"df-2f8f9738-6890-4e2b-9a34-e8dee0efb95c\">\n",
       "    <div class=\"colab-df-container\">\n",
       "      <div>\n",
       "<style scoped>\n",
       "    .dataframe tbody tr th:only-of-type {\n",
       "        vertical-align: middle;\n",
       "    }\n",
       "\n",
       "    .dataframe tbody tr th {\n",
       "        vertical-align: top;\n",
       "    }\n",
       "\n",
       "    .dataframe thead th {\n",
       "        text-align: right;\n",
       "    }\n",
       "</style>\n",
       "<table border=\"1\" class=\"dataframe\">\n",
       "  <thead>\n",
       "    <tr style=\"text-align: right;\">\n",
       "      <th></th>\n",
       "      <th>Date</th>\n",
       "      <th>Open</th>\n",
       "      <th>High</th>\n",
       "      <th>Low</th>\n",
       "      <th>Close</th>\n",
       "      <th>Volume</th>\n",
       "    </tr>\n",
       "  </thead>\n",
       "  <tbody>\n",
       "    <tr>\n",
       "      <th>0</th>\n",
       "      <td>01/03/2012</td>\n",
       "      <td>325.25</td>\n",
       "      <td>332.83</td>\n",
       "      <td>324.97</td>\n",
       "      <td>663.59</td>\n",
       "      <td>7,380,500</td>\n",
       "    </tr>\n",
       "    <tr>\n",
       "      <th>1</th>\n",
       "      <td>01/04/2012</td>\n",
       "      <td>331.27</td>\n",
       "      <td>333.87</td>\n",
       "      <td>329.08</td>\n",
       "      <td>666.45</td>\n",
       "      <td>5,749,400</td>\n",
       "    </tr>\n",
       "    <tr>\n",
       "      <th>2</th>\n",
       "      <td>01/05/2012</td>\n",
       "      <td>329.83</td>\n",
       "      <td>330.75</td>\n",
       "      <td>326.89</td>\n",
       "      <td>657.21</td>\n",
       "      <td>6,590,300</td>\n",
       "    </tr>\n",
       "    <tr>\n",
       "      <th>3</th>\n",
       "      <td>01/06/2012</td>\n",
       "      <td>328.34</td>\n",
       "      <td>328.77</td>\n",
       "      <td>323.68</td>\n",
       "      <td>648.24</td>\n",
       "      <td>5,405,900</td>\n",
       "    </tr>\n",
       "    <tr>\n",
       "      <th>4</th>\n",
       "      <td>01/09/2012</td>\n",
       "      <td>322.04</td>\n",
       "      <td>322.29</td>\n",
       "      <td>309.46</td>\n",
       "      <td>620.76</td>\n",
       "      <td>11,688,800</td>\n",
       "    </tr>\n",
       "  </tbody>\n",
       "</table>\n",
       "</div>\n",
       "      <button class=\"colab-df-convert\" onclick=\"convertToInteractive('df-2f8f9738-6890-4e2b-9a34-e8dee0efb95c')\"\n",
       "              title=\"Convert this dataframe to an interactive table.\"\n",
       "              style=\"display:none;\">\n",
       "        \n",
       "  <svg xmlns=\"http://www.w3.org/2000/svg\" height=\"24px\"viewBox=\"0 0 24 24\"\n",
       "       width=\"24px\">\n",
       "    <path d=\"M0 0h24v24H0V0z\" fill=\"none\"/>\n",
       "    <path d=\"M18.56 5.44l.94 2.06.94-2.06 2.06-.94-2.06-.94-.94-2.06-.94 2.06-2.06.94zm-11 1L8.5 8.5l.94-2.06 2.06-.94-2.06-.94L8.5 2.5l-.94 2.06-2.06.94zm10 10l.94 2.06.94-2.06 2.06-.94-2.06-.94-.94-2.06-.94 2.06-2.06.94z\"/><path d=\"M17.41 7.96l-1.37-1.37c-.4-.4-.92-.59-1.43-.59-.52 0-1.04.2-1.43.59L10.3 9.45l-7.72 7.72c-.78.78-.78 2.05 0 2.83L4 21.41c.39.39.9.59 1.41.59.51 0 1.02-.2 1.41-.59l7.78-7.78 2.81-2.81c.8-.78.8-2.07 0-2.86zM5.41 20L4 18.59l7.72-7.72 1.47 1.35L5.41 20z\"/>\n",
       "  </svg>\n",
       "      </button>\n",
       "      \n",
       "  <style>\n",
       "    .colab-df-container {\n",
       "      display:flex;\n",
       "      flex-wrap:wrap;\n",
       "      gap: 12px;\n",
       "    }\n",
       "\n",
       "    .colab-df-convert {\n",
       "      background-color: #E8F0FE;\n",
       "      border: none;\n",
       "      border-radius: 50%;\n",
       "      cursor: pointer;\n",
       "      display: none;\n",
       "      fill: #1967D2;\n",
       "      height: 32px;\n",
       "      padding: 0 0 0 0;\n",
       "      width: 32px;\n",
       "    }\n",
       "\n",
       "    .colab-df-convert:hover {\n",
       "      background-color: #E2EBFA;\n",
       "      box-shadow: 0px 1px 2px rgba(60, 64, 67, 0.3), 0px 1px 3px 1px rgba(60, 64, 67, 0.15);\n",
       "      fill: #174EA6;\n",
       "    }\n",
       "\n",
       "    [theme=dark] .colab-df-convert {\n",
       "      background-color: #3B4455;\n",
       "      fill: #D2E3FC;\n",
       "    }\n",
       "\n",
       "    [theme=dark] .colab-df-convert:hover {\n",
       "      background-color: #434B5C;\n",
       "      box-shadow: 0px 1px 3px 1px rgba(0, 0, 0, 0.15);\n",
       "      filter: drop-shadow(0px 1px 2px rgba(0, 0, 0, 0.3));\n",
       "      fill: #FFFFFF;\n",
       "    }\n",
       "  </style>\n",
       "\n",
       "      <script>\n",
       "        const buttonEl =\n",
       "          document.querySelector('#df-2f8f9738-6890-4e2b-9a34-e8dee0efb95c button.colab-df-convert');\n",
       "        buttonEl.style.display =\n",
       "          google.colab.kernel.accessAllowed ? 'block' : 'none';\n",
       "\n",
       "        async function convertToInteractive(key) {\n",
       "          const element = document.querySelector('#df-2f8f9738-6890-4e2b-9a34-e8dee0efb95c');\n",
       "          const dataTable =\n",
       "            await google.colab.kernel.invokeFunction('convertToInteractive',\n",
       "                                                     [key], {});\n",
       "          if (!dataTable) return;\n",
       "\n",
       "          const docLinkHtml = 'Like what you see? Visit the ' +\n",
       "            '<a target=\"_blank\" href=https://colab.research.google.com/notebooks/data_table.ipynb>data table notebook</a>'\n",
       "            + ' to learn more about interactive tables.';\n",
       "          element.innerHTML = '';\n",
       "          dataTable['output_type'] = 'display_data';\n",
       "          await google.colab.output.renderOutput(dataTable, element);\n",
       "          const docLink = document.createElement('div');\n",
       "          docLink.innerHTML = docLinkHtml;\n",
       "          element.appendChild(docLink);\n",
       "        }\n",
       "      </script>\n",
       "    </div>\n",
       "  </div>\n",
       "  "
      ],
      "text/plain": [
       "         Date    Open    High     Low   Close      Volume\n",
       "0  01/03/2012  325.25  332.83  324.97  663.59   7,380,500\n",
       "1  01/04/2012  331.27  333.87  329.08  666.45   5,749,400\n",
       "2  01/05/2012  329.83  330.75  326.89  657.21   6,590,300\n",
       "3  01/06/2012  328.34  328.77  323.68  648.24   5,405,900\n",
       "4  01/09/2012  322.04  322.29  309.46  620.76  11,688,800"
      ]
     },
     "execution_count": 60,
     "metadata": {},
     "output_type": "execute_result"
    }
   ],
   "source": [
    "dataset_train.head()"
   ]
  },
  {
   "cell_type": "code",
   "execution_count": 61,
   "metadata": {
    "id": "BUvkiDWaiQfI"
   },
   "outputs": [],
   "source": [
    "#keras only takes numpy array\n",
    "training_set = dataset_train.iloc[:, 1: 2].values"
   ]
  },
  {
   "cell_type": "code",
   "execution_count": 62,
   "metadata": {
    "colab": {
     "base_uri": "https://localhost:8080/"
    },
    "id": "hNG3z3QpiQfL",
    "outputId": "e1ca2351-1d55-4b38-e6b5-71cfd73ea39a"
   },
   "outputs": [
    {
     "name": "stdout",
     "output_type": "stream",
     "text": [
      "[[ 325.25    ]\n",
      " [ 331.27    ]\n",
      " [ 329.83    ]\n",
      " ...\n",
      " [1057.390015]\n",
      " [1051.599976]\n",
      " [1046.719971]]\n",
      "(1509, 1)\n"
     ]
    }
   ],
   "source": [
    "print(training_set)\n",
    "print(training_set.shape)"
   ]
  },
  {
   "cell_type": "code",
   "execution_count": 63,
   "metadata": {
    "colab": {
     "base_uri": "https://localhost:8080/",
     "height": 440
    },
    "id": "mIikcH25iQfO",
    "outputId": "6c3e8db9-6378-41bc-ac13-7db976652cee"
   },
   "outputs": [
    {
     "data": {
      "image/png": "[encoded data removed]",
      "text/plain": [
       "<Figure size 1800x800 with 1 Axes>"
      ]
     },
     "metadata": {},
     "output_type": "display_data"
    }
   ],
   "source": [
    "plt.figure(figsize=(18, 8))\n",
    "plt.plot(dataset_train['Open'])\n",
    "plt.title(\"Google Stock Open Prices\")\n",
    "plt.xlabel(\"Time (oldest -> latest)\")\n",
    "plt.ylabel(\"Stock Open Price\")\n",
    "plt.show()"
   ]
  },
  {
   "cell_type": "markdown",
   "metadata": {
    "id": "wp5smLz7iQfQ"
   },
   "source": [
    "#### 3.1 Feature scaling"
   ]
  },
  {
   "cell_type": "code",
   "execution_count": 64,
   "metadata": {
    "colab": {
     "base_uri": "https://localhost:8080/"
    },
    "id": "PGwadVPziQfS",
    "outputId": "e6aac715-3aa5-488a-9c6a-0c8e605e7651"
   },
   "outputs": [
    {
     "name": "stdout",
     "output_type": "stream",
     "text": [
      "0\n"
     ]
    }
   ],
   "source": [
    "import os\n",
    "if os.path.exists('config.py'):\n",
    "    print(1)\n",
    "else:\n",
    "    print(0)"
   ]
  },
  {
   "cell_type": "code",
   "execution_count": 65,
   "metadata": {
    "colab": {
     "base_uri": "https://localhost:8080/"
    },
    "id": "bkH_6jQdiQfU",
    "outputId": "22adfb07-b5f7-4c8e-fa22-3ab0ef8230da"
   },
   "outputs": [
    {
     "name": "stdout",
     "output_type": "stream",
     "text": [
      "[0.05794644 0.0655085  0.06369963 0.06182796 0.05391418 0.04343785\n",
      " 0.03953121 0.04435484 0.04125214 0.04483218 0.04147825 0.05047232\n",
      " 0.01889257 0.01606623 0.01626721 0.01075269 0.0072857  0.00653201\n",
      " 0.01109185 0.01418199 0.01540046 0.01535022 0.01898051 0.0216938\n",
      " 0.02929354 0.0302231  0.032346   0.02975832 0.03139132 0.03204452\n",
      " 0.03291127 0.02658024 0.02793689 0.02724601 0.03230831 0.02920561\n",
      " 0.02941916 0.02894182 0.03107728 0.03645362 0.03875239 0.03858909\n",
      " 0.03760929 0.02985881 0.03048689 0.0311024  0.029796   0.02482163\n",
      " 0.03029846 0.03420511 0.03521003 0.0378982  0.03929254 0.04416642\n",
      " 0.04647774 0.04891468 0.05397699 0.05298463 0.05425334 0.05738117]\n",
      "(1509, 1)\n"
     ]
    }
   ],
   "source": [
    "sc = MinMaxScaler(feature_range = (0, 1))\n",
    "#fit: get min/max of train data\n",
    "training_set_scaled = sc.fit_transform(training_set)\n",
    "print(training_set_scaled[0:60,0])\n",
    "print(training_set_scaled.shape)"
   ]
  },
  {
   "cell_type": "markdown",
   "metadata": {
    "id": "cprzJL20iQfV"
   },
   "source": [
    "#### 3.2 Data structure creation"
   ]
  },
  {
   "cell_type": "markdown",
   "metadata": {
    "id": "BYffRI_piQfX"
   },
   "source": [
    "- taking the reference of past 60 days of data to predict the future stock price.  \n",
    "- It is observed that taking 60 days of past data gives us best results.  \n",
    "- In this data set 60 days of data means 3 months of data.  \n",
    "- Every month as 20 days of Stock price.   \n",
    "- X train will have data of 60 days prior to our date and y train will have data of one day after our date"
   ]
  },
  {
   "cell_type": "code",
   "execution_count": 94,
   "metadata": {
    "colab": {
     "base_uri": "https://localhost:8080/"
    },
    "id": "beQ3-GU2iQfY",
    "outputId": "7ebde230-dcd9-421b-ba3e-8a9118098dce"
   },
   "outputs": [
    {
     "name": "stdout",
     "output_type": "stream",
     "text": [
      "[[0.05794644 0.0655085  0.06369963 ... 0.05298463 0.05425334 0.05738117]\n",
      " [0.0655085  0.06369963 0.06182796 ... 0.05425334 0.05738117 0.05826048]\n",
      " [0.06369963 0.06182796 0.05391418 ... 0.05738117 0.05826048 0.05720531]\n",
      " ...\n",
      " [0.85526583 0.84775405 0.85152251 ... 0.98712441 0.98230082 0.97848205]\n",
      " [0.84775405 0.85152251 0.84962571 ... 0.98230082 0.97848205 0.97762796]\n",
      " [0.85152251 0.84962571 0.86370723 ... 0.97848205 0.97762796 0.97035477]]\n",
      "(1449,)\n"
     ]
    }
   ],
   "source": [
    "## 60 timesteps and 1 output\n",
    "X_train = []\n",
    "y_train = []\n",
    "for i in range(60, len(training_set_scaled)):\n",
    "    X_train.append(training_set_scaled[i-60: i, 0])\n",
    "    y_train.append(training_set_scaled[i, 0])\n",
    "\n",
    "X_train, y_train = np.array(X_train), np.array(y_train)\n",
    "print(X_train)\n",
    "print(y_train.shape)"
   ]
  },
  {
   "cell_type": "code",
   "execution_count": 67,
   "metadata": {
    "colab": {
     "base_uri": "https://localhost:8080/"
    },
    "id": "-vDtsyzZiQfa",
    "outputId": "cfdda2d8-f8b2-4261-9fe6-f5fc650e2af2"
   },
   "outputs": [
    {
     "data": {
      "text/plain": [
       "(1449, 60)"
      ]
     },
     "execution_count": 67,
     "metadata": {},
     "output_type": "execute_result"
    }
   ],
   "source": [
    "X_train.shape"
   ]
  },
  {
   "cell_type": "code",
   "execution_count": 68,
   "metadata": {
    "colab": {
     "base_uri": "https://localhost:8080/"
    },
    "id": "PaByMCxkiQfc",
    "outputId": "ccaca295-050d-45d7-e3d4-6f1a553af6e2"
   },
   "outputs": [
    {
     "data": {
      "text/plain": [
       "(1449,)"
      ]
     },
     "execution_count": 68,
     "metadata": {},
     "output_type": "execute_result"
    }
   ],
   "source": [
    "y_train.shape"
   ]
  },
  {
   "cell_type": "markdown",
   "metadata": {
    "id": "aKmkH1QbiQfd"
   },
   "source": [
    "#### 3.3 Data reshaping"
   ]
  },
  {
   "cell_type": "code",
   "execution_count": 69,
   "metadata": {
    "id": "eY4-TpKLiQfe"
   },
   "outputs": [],
   "source": [
    "X_train = np.reshape(X_train, newshape = \n",
    "                     (X_train.shape[0], X_train.shape[1], 1))"
   ]
  },
  {
   "cell_type": "markdown",
   "metadata": {
    "id": "qEdzG0_-iQff"
   },
   "source": [
    "1. Number of stock prices - 1449  \n",
    "2. Number of time steps - 60  \n",
    "3. Number of Indicator - 1  "
   ]
  },
  {
   "cell_type": "code",
   "execution_count": 70,
   "metadata": {
    "colab": {
     "base_uri": "https://localhost:8080/"
    },
    "id": "L3R3hh55iQff",
    "outputId": "e8f80876-6f23-4046-b157-fa39a3e060f7"
   },
   "outputs": [
    {
     "data": {
      "text/plain": [
       "(1449, 60, 1)"
      ]
     },
     "execution_count": 70,
     "metadata": {},
     "output_type": "execute_result"
    }
   ],
   "source": [
    "X_train.shape"
   ]
  },
  {
   "cell_type": "markdown",
   "metadata": {
    "id": "rHsYiFriiQfh"
   },
   "source": [
    "### 4. Create & Fit Model"
   ]
  },
  {
   "cell_type": "markdown",
   "metadata": {
    "id": "jBvU3AyaiQfj"
   },
   "source": [
    "#### 4.1 Create model"
   ]
  },
  {
   "cell_type": "code",
   "execution_count": 71,
   "metadata": {
    "id": "SNy69NPYiQfl"
   },
   "outputs": [],
   "source": [
    "regressor = Sequential()\n",
    "#add 1st lstm layer\n",
    "regressor.add(LSTM(units = 50, return_sequences = True, input_shape = (X_train.shape[1], 1)))\n",
    "regressor.add(Dropout(rate = 0.2))\n",
    "\n",
    "##add 2nd lstm layer: 50 neurons\n",
    "regressor.add(LSTM(units = 50, return_sequences = True))\n",
    "regressor.add(Dropout(rate = 0.2))\n",
    "\n",
    "##add 3rd lstm layer\n",
    "regressor.add(LSTM(units = 50, return_sequences = True))\n",
    "regressor.add(Dropout(rate = 0.2))\n",
    "\n",
    "##add 4th lstm layer\n",
    "regressor.add(LSTM(units = 50, return_sequences = False))\n",
    "regressor.add(Dropout(rate = 0.2))\n",
    "\n",
    "##add output layer\n",
    "regressor.add(Dense(units = 1))"
   ]
  },
  {
   "cell_type": "code",
   "execution_count": 72,
   "metadata": {
    "id": "5EkFH71miQfn"
   },
   "outputs": [],
   "source": [
    "regressor.compile(optimizer = 'adam', loss = 'mean_squared_error')"
   ]
  },
  {
   "cell_type": "markdown",
   "metadata": {
    "id": "yj5Nt4m2iQfo"
   },
   "source": [
    "#### 4.2 Model fit"
   ]
  },
  {
   "cell_type": "code",
   "execution_count": 73,
   "metadata": {
    "colab": {
     "base_uri": "https://localhost:8080/"
    },
    "id": "l_CFxzTJiQfp",
    "outputId": "7266ebc2-c30b-47df-f1d2-03d46fc8a561",
    "scrolled": true
   },
   "outputs": [
    {
     "name": "stdout",
     "output_type": "stream",
     "text": [
      "Epoch 1/100\n",
      "46/46 [==============================] - 8s 15ms/step - loss: 0.0298\n",
      "Epoch 2/100\n",
      "46/46 [==============================] - 1s 13ms/step - loss: 0.0039\n",
      "Epoch 3/100\n",
      "46/46 [==============================] - 1s 13ms/step - loss: 0.0035\n",
      "Epoch 4/100\n",
      "46/46 [==============================] - 1s 13ms/step - loss: 0.0034\n",
      "Epoch 5/100\n",
      "46/46 [==============================] - 1s 13ms/step - loss: 0.0032\n",
      "Epoch 6/100\n",
      "46/46 [==============================] - 1s 13ms/step - loss: 0.0035\n",
      "Epoch 7/100\n",
      "46/46 [==============================] - 1s 13ms/step - loss: 0.0030\n",
      "Epoch 8/100\n",
      "46/46 [==============================] - 1s 13ms/step - loss: 0.0030\n",
      "Epoch 9/100\n",
      "46/46 [==============================] - 1s 13ms/step - loss: 0.0027\n",
      "Epoch 10/100\n",
      "46/46 [==============================] - 1s 13ms/step - loss: 0.0029\n",
      "Epoch 11/100\n",
      "46/46 [==============================] - 1s 13ms/step - loss: 0.0025\n",
      "Epoch 12/100\n",
      "46/46 [==============================] - 1s 14ms/step - loss: 0.0024\n",
      "Epoch 13/100\n",
      "46/46 [==============================] - 1s 19ms/step - loss: 0.0024\n",
      "Epoch 14/100\n",
      "46/46 [==============================] - 1s 18ms/step - loss: 0.0023\n",
      "Epoch 15/100\n",
      "46/46 [==============================] - 1s 16ms/step - loss: 0.0027\n",
      "Epoch 16/100\n",
      "46/46 [==============================] - 1s 13ms/step - loss: 0.0025\n",
      "Epoch 17/100\n",
      "46/46 [==============================] - 1s 12ms/step - loss: 0.0024\n",
      "Epoch 18/100\n",
      "46/46 [==============================] - 1s 13ms/step - loss: 0.0020\n",
      "Epoch 19/100\n",
      "46/46 [==============================] - 1s 13ms/step - loss: 0.0021\n",
      "Epoch 20/100\n",
      "46/46 [==============================] - 1s 13ms/step - loss: 0.0024\n",
      "Epoch 21/100\n",
      "46/46 [==============================] - 1s 13ms/step - loss: 0.0020\n",
      "Epoch 22/100\n",
      "46/46 [==============================] - 1s 13ms/step - loss: 0.0020\n",
      "Epoch 23/100\n",
      "46/46 [==============================] - 1s 13ms/step - loss: 0.0021\n",
      "Epoch 24/100\n",
      "46/46 [==============================] - 1s 13ms/step - loss: 0.0020\n",
      "Epoch 25/100\n",
      "46/46 [==============================] - 1s 13ms/step - loss: 0.0020\n",
      "Epoch 26/100\n",
      "46/46 [==============================] - 1s 14ms/step - loss: 0.0023\n",
      "Epoch 27/100\n",
      "46/46 [==============================] - 1s 13ms/step - loss: 0.0018\n",
      "Epoch 28/100\n",
      "46/46 [==============================] - 1s 13ms/step - loss: 0.0021\n",
      "Epoch 29/100\n",
      "46/46 [==============================] - 1s 13ms/step - loss: 0.0018\n",
      "Epoch 30/100\n",
      "46/46 [==============================] - 1s 13ms/step - loss: 0.0017\n",
      "Epoch 31/100\n",
      "46/46 [==============================] - 1s 14ms/step - loss: 0.0018\n",
      "Epoch 32/100\n",
      "46/46 [==============================] - 1s 18ms/step - loss: 0.0017\n",
      "Epoch 33/100\n",
      "46/46 [==============================] - 1s 19ms/step - loss: 0.0017\n",
      "Epoch 34/100\n",
      "46/46 [==============================] - 1s 17ms/step - loss: 0.0019\n",
      "Epoch 35/100\n",
      "46/46 [==============================] - 1s 13ms/step - loss: 0.0017\n",
      "Epoch 36/100\n",
      "46/46 [==============================] - 1s 13ms/step - loss: 0.0018\n",
      "Epoch 37/100\n",
      "46/46 [==============================] - 1s 13ms/step - loss: 0.0016\n",
      "Epoch 38/100\n",
      "46/46 [==============================] - 1s 13ms/step - loss: 0.0016\n",
      "Epoch 39/100\n",
      "46/46 [==============================] - 1s 13ms/step - loss: 0.0018\n",
      "Epoch 40/100\n",
      "46/46 [==============================] - 1s 13ms/step - loss: 0.0018\n",
      "Epoch 41/100\n",
      "46/46 [==============================] - 1s 15ms/step - loss: 0.0018\n",
      "Epoch 42/100\n",
      "46/46 [==============================] - 1s 13ms/step - loss: 0.0016\n",
      "Epoch 43/100\n",
      "46/46 [==============================] - 1s 13ms/step - loss: 0.0015\n",
      "Epoch 44/100\n",
      "46/46 [==============================] - 1s 13ms/step - loss: 0.0015\n",
      "Epoch 45/100\n",
      "46/46 [==============================] - 1s 14ms/step - loss: 0.0015\n",
      "Epoch 46/100\n",
      "46/46 [==============================] - 1s 13ms/step - loss: 0.0016\n",
      "Epoch 47/100\n",
      "46/46 [==============================] - 1s 13ms/step - loss: 0.0015\n",
      "Epoch 48/100\n",
      "46/46 [==============================] - 1s 13ms/step - loss: 0.0016\n",
      "Epoch 49/100\n",
      "46/46 [==============================] - 1s 16ms/step - loss: 0.0012\n",
      "Epoch 50/100\n",
      "46/46 [==============================] - 1s 18ms/step - loss: 0.0014\n",
      "Epoch 51/100\n",
      "46/46 [==============================] - 2s 35ms/step - loss: 0.0013\n",
      "Epoch 52/100\n",
      "46/46 [==============================] - 1s 21ms/step - loss: 0.0014\n",
      "Epoch 53/100\n",
      "46/46 [==============================] - 1s 13ms/step - loss: 0.0012\n",
      "Epoch 54/100\n",
      "46/46 [==============================] - 1s 13ms/step - loss: 0.0014\n",
      "Epoch 55/100\n",
      "46/46 [==============================] - 1s 13ms/step - loss: 0.0014\n",
      "Epoch 56/100\n",
      "46/46 [==============================] - 1s 13ms/step - loss: 0.0012\n",
      "Epoch 57/100\n",
      "46/46 [==============================] - 1s 13ms/step - loss: 0.0013\n",
      "Epoch 58/100\n",
      "46/46 [==============================] - 1s 13ms/step - loss: 0.0015\n",
      "Epoch 59/100\n",
      "46/46 [==============================] - 1s 13ms/step - loss: 0.0017\n",
      "Epoch 60/100\n",
      "46/46 [==============================] - 1s 12ms/step - loss: 0.0014\n",
      "Epoch 61/100\n",
      "46/46 [==============================] - 1s 14ms/step - loss: 0.0014\n",
      "Epoch 62/100\n",
      "46/46 [==============================] - 1s 13ms/step - loss: 0.0012\n",
      "Epoch 63/100\n",
      "46/46 [==============================] - 1s 14ms/step - loss: 0.0012\n",
      "Epoch 64/100\n",
      "46/46 [==============================] - 1s 13ms/step - loss: 0.0012\n",
      "Epoch 65/100\n",
      "46/46 [==============================] - 1s 13ms/step - loss: 0.0013\n",
      "Epoch 66/100\n",
      "46/46 [==============================] - 1s 13ms/step - loss: 0.0012\n",
      "Epoch 67/100\n",
      "46/46 [==============================] - 1s 13ms/step - loss: 0.0012\n",
      "Epoch 68/100\n",
      "46/46 [==============================] - 1s 14ms/step - loss: 0.0012\n",
      "Epoch 69/100\n",
      "46/46 [==============================] - 1s 18ms/step - loss: 0.0012\n",
      "Epoch 70/100\n",
      "46/46 [==============================] - 1s 18ms/step - loss: 0.0011\n",
      "Epoch 71/100\n",
      "46/46 [==============================] - 1s 18ms/step - loss: 0.0012\n",
      "Epoch 72/100\n",
      "46/46 [==============================] - 1s 13ms/step - loss: 0.0013\n",
      "Epoch 73/100\n",
      "46/46 [==============================] - 1s 13ms/step - loss: 0.0012\n",
      "Epoch 74/100\n",
      "46/46 [==============================] - 1s 13ms/step - loss: 0.0011\n",
      "Epoch 75/100\n",
      "46/46 [==============================] - 1s 19ms/step - loss: 0.0012\n",
      "Epoch 76/100\n",
      "46/46 [==============================] - 1s 27ms/step - loss: 0.0011\n",
      "Epoch 77/100\n",
      "46/46 [==============================] - 1s 28ms/step - loss: 0.0012\n",
      "Epoch 78/100\n",
      "46/46 [==============================] - 1s 13ms/step - loss: 0.0011\n",
      "Epoch 79/100\n",
      "46/46 [==============================] - 1s 14ms/step - loss: 0.0012\n",
      "Epoch 80/100\n",
      "46/46 [==============================] - 1s 13ms/step - loss: 0.0010\n",
      "Epoch 81/100\n",
      "46/46 [==============================] - 1s 13ms/step - loss: 0.0013\n",
      "Epoch 82/100\n",
      "46/46 [==============================] - 1s 13ms/step - loss: 0.0011\n",
      "Epoch 83/100\n",
      "46/46 [==============================] - 1s 13ms/step - loss: 0.0011\n",
      "Epoch 84/100\n",
      "46/46 [==============================] - 1s 14ms/step - loss: 0.0011\n",
      "Epoch 85/100\n",
      "46/46 [==============================] - 1s 16ms/step - loss: 9.0512e-04\n",
      "Epoch 86/100\n",
      "46/46 [==============================] - 1s 18ms/step - loss: 0.0011\n",
      "Epoch 87/100\n",
      "46/46 [==============================] - 1s 18ms/step - loss: 9.6761e-04\n",
      "Epoch 88/100\n",
      "46/46 [==============================] - 1s 15ms/step - loss: 0.0010\n",
      "Epoch 89/100\n",
      "46/46 [==============================] - 1s 13ms/step - loss: 8.7838e-04\n",
      "Epoch 90/100\n",
      "46/46 [==============================] - 1s 13ms/step - loss: 9.0347e-04\n",
      "Epoch 91/100\n",
      "46/46 [==============================] - 1s 14ms/step - loss: 9.6624e-04\n",
      "Epoch 92/100\n",
      "46/46 [==============================] - 1s 13ms/step - loss: 9.5354e-04\n",
      "Epoch 93/100\n",
      "46/46 [==============================] - 1s 13ms/step - loss: 0.0010\n",
      "Epoch 94/100\n",
      "46/46 [==============================] - 1s 13ms/step - loss: 9.2641e-04\n",
      "Epoch 95/100\n",
      "46/46 [==============================] - 1s 13ms/step - loss: 9.6535e-04\n",
      "Epoch 96/100\n",
      "46/46 [==============================] - 1s 14ms/step - loss: 8.4427e-04\n",
      "Epoch 97/100\n",
      "46/46 [==============================] - 1s 13ms/step - loss: 0.0010\n",
      "Epoch 98/100\n",
      "46/46 [==============================] - 1s 13ms/step - loss: 0.0010\n",
      "Epoch 99/100\n",
      "46/46 [==============================] - 1s 13ms/step - loss: 8.9689e-04\n",
      "Epoch 100/100\n",
      "46/46 [==============================] - 1s 13ms/step - loss: 9.2421e-04\n"
     ]
    },
    {
     "data": {
      "text/plain": [
       "<keras.callbacks.History at 0x7f906d989ae0>"
      ]
     },
     "execution_count": 73,
     "metadata": {},
     "output_type": "execute_result"
    }
   ],
   "source": [
    "regressor.fit(x = X_train, y = y_train, batch_size = 32, epochs = 100)"
   ]
  },
  {
   "cell_type": "markdown",
   "metadata": {
    "id": "YtmstDasiQfq"
   },
   "source": [
    "#### 4.3 Model evaluation"
   ]
  },
  {
   "cell_type": "markdown",
   "metadata": {
    "id": "PW5XFaMZiQfr"
   },
   "source": [
    "#### 4.3.1 Read and convert"
   ]
  },
  {
   "cell_type": "code",
   "execution_count": 74,
   "metadata": {
    "id": "9Aaw1EeoiQfs"
   },
   "outputs": [],
   "source": [
    "dataset_test = pd.read_csv('Google_Stock_Price_Test.csv')"
   ]
  },
  {
   "cell_type": "code",
   "execution_count": 75,
   "metadata": {
    "colab": {
     "base_uri": "https://localhost:8080/"
    },
    "id": "-s3PC798iQfv",
    "outputId": "ce559368-ba7f-4d38-ed70-a8be9b3ca81e"
   },
   "outputs": [
    {
     "name": "stdout",
     "output_type": "stream",
     "text": [
      "         Date         Open         High          Low        Close   Volume\n",
      "0  02/01/2018  1048.339966  1066.939941  1045.229980  1065.000000  1237600\n",
      "1  03/01/2018  1064.310059  1086.290039  1063.209961  1082.479980  1430200\n",
      "2  04/01/2018  1088.000000  1093.569946  1084.001953  1086.400024  1004600\n",
      "3  05/01/2018  1094.000000  1104.250000  1092.000000  1102.229980  1279100\n",
      "4  08/01/2018  1102.229980  1111.270020  1101.619995  1106.939941  1047600\n",
      "shape (125, 6)\n"
     ]
    }
   ],
   "source": [
    "print(dataset_test.head())\n",
    "print('shape',dataset_test.shape)"
   ]
  },
  {
   "cell_type": "code",
   "execution_count": 76,
   "metadata": {
    "colab": {
     "base_uri": "https://localhost:8080/"
    },
    "id": "8FZ1BlFHiQfy",
    "outputId": "bd0bdc34-0be9-4cf5-cc2f-9880d6d34c35"
   },
   "outputs": [
    {
     "data": {
      "text/plain": [
       "(125, 1)"
      ]
     },
     "execution_count": 76,
     "metadata": {},
     "output_type": "execute_result"
    }
   ],
   "source": [
    "#keras only takes numpy array\n",
    "real_stock_price = dataset_test.iloc[:, 1: 2].values\n",
    "real_stock_price.shape"
   ]
  },
  {
   "cell_type": "markdown",
   "metadata": {
    "id": "ZjGYa-9-iQf0"
   },
   "source": [
    "#### 4.3.2 Concat and convert"
   ]
  },
  {
   "cell_type": "code",
   "execution_count": 77,
   "metadata": {
    "colab": {
     "base_uri": "https://localhost:8080/"
    },
    "id": "J6cEAdoOiQf3",
    "outputId": "d664fdc2-ff0f-48d2-d28b-b85185f727cc"
   },
   "outputs": [
    {
     "name": "stdout",
     "output_type": "stream",
     "text": [
      "Len total: 1634\n"
     ]
    },
    {
     "data": {
      "text/plain": [
       "185"
      ]
     },
     "execution_count": 77,
     "metadata": {},
     "output_type": "execute_result"
    }
   ],
   "source": [
    "#vertical concat use 0, horizontal uses 1\n",
    "dataset_total = pd.concat((dataset_train['Open'], dataset_test['Open']), \n",
    "                          axis = 0)\n",
    "print('Len total:',len(dataset_total))\n",
    "##use .values to make numpy array\n",
    "inputs = dataset_total[len(dataset_total) - len(dataset_test) - 60:].values\n",
    "len(inputs)"
   ]
  },
  {
   "cell_type": "markdown",
   "metadata": {
    "id": "QafTtY7uiQf5"
   },
   "source": [
    "#### 4.3.3 Reshape and scale"
   ]
  },
  {
   "cell_type": "code",
   "execution_count": 78,
   "metadata": {
    "id": "pSSDTlIwiQf6"
   },
   "outputs": [],
   "source": [
    "#reshape data to only have 1 col\n",
    "inputs = inputs.reshape(-1, 1)\n",
    "\n",
    "#scale input\n",
    "inputs = sc.transform(inputs)"
   ]
  },
  {
   "cell_type": "code",
   "execution_count": 79,
   "metadata": {
    "colab": {
     "base_uri": "https://localhost:8080/"
    },
    "id": "onGFu-ICiQf7",
    "outputId": "09143b67-d9d8-4c18-cfa8-e1e371807eda"
   },
   "outputs": [
    {
     "data": {
      "text/plain": [
       "185"
      ]
     },
     "execution_count": 79,
     "metadata": {},
     "output_type": "execute_result"
    }
   ],
   "source": [
    "len(inputs)"
   ]
  },
  {
   "cell_type": "markdown",
   "metadata": {
    "id": "AKyQzHLdiQf9"
   },
   "source": [
    "#### 4.3.4 Create test data strucutre"
   ]
  },
  {
   "cell_type": "code",
   "execution_count": 95,
   "metadata": {
    "colab": {
     "base_uri": "https://localhost:8080/"
    },
    "id": "ds59F67tiQgA",
    "outputId": "e51d1bd1-975b-4595-9858-9b3a0a2846c8"
   },
   "outputs": [
    {
     "name": "stdout",
     "output_type": "stream",
     "text": [
      "(125, 60, 1)\n"
     ]
    }
   ],
   "source": [
    "X_test = []\n",
    "for i in range(60, len(inputs)):\n",
    "    X_test.append(inputs[i-60:i, 0])\n",
    "X_test = np.array(X_test)\n",
    "#add dimension of indicator\n",
    "X_test = np.reshape(X_test, (X_test.shape[0], X_test.shape[1], 1))"
   ]
  },
  {
   "cell_type": "code",
   "execution_count": 81,
   "metadata": {
    "colab": {
     "base_uri": "https://localhost:8080/"
    },
    "id": "IpgWODz9iQgC",
    "outputId": "10e1f325-d994-4dcc-dc1e-1553bbbafc1f"
   },
   "outputs": [
    {
     "data": {
      "text/plain": [
       "(125, 60, 1)"
      ]
     },
     "execution_count": 81,
     "metadata": {},
     "output_type": "execute_result"
    }
   ],
   "source": [
    "X_test.shape"
   ]
  },
  {
   "cell_type": "code",
   "execution_count": 96,
   "metadata": {
    "colab": {
     "base_uri": "https://localhost:8080/"
    },
    "id": "9rIjdtphkgMD",
    "outputId": "b3c7e69e-8022-49f3-fad5-4f3f1e8c30f2"
   },
   "outputs": [
    {
     "name": "stdout",
     "output_type": "stream",
     "text": [
      "[0.96625969 0.98632061 1.01607885 1.02361578 1.03395391 1.0429606\n",
      " 1.02750983 1.03906655 1.03418009 1.07199033 1.06408907 1.07060859\n",
      " 1.07113608 1.07824596 1.10633357 1.12829114 1.12226169 1.12546479\n",
      " 1.12722344 1.11635767 1.11979952 1.10980057 1.05878813 1.01934482\n",
      " 0.93967955 1.00796413 0.97514079 0.92720587 0.96583264 0.96206417\n",
      " 0.96702593 1.00486131 1.01659391 1.0193071  1.03928    1.05148979\n",
      " 1.04703053 1.06607389 1.08295654 1.060082   1.04103865 0.97221385\n",
      " 0.99992471 1.03017287 1.0175736  1.05039694 1.0763743  1.11135819\n",
      " 1.11908358 1.08794344 1.09391018 1.09916097 1.05628839 1.02989656\n",
      " 1.02203301 1.00839118 0.9646142  0.96332033 0.98467497 0.90302488\n",
      " 0.92014628 0.93420266 0.92301027 0.89725909 0.95745403 0.93066029\n",
      " 0.92664058 0.93874986 0.94069696 0.93699136 0.95688882 0.95201493\n",
      " 0.97006588 1.00280136 0.99271439 1.00854192 1.00334142 0.97085726\n",
      " 0.93759429 0.94260634 0.96332033 0.94323442 0.92269623 0.94083512\n",
      " 0.92940414 0.92676624 0.96737768 0.97907256 0.97851978 1.01360426\n",
      " 1.02311329 1.03115271 1.01859116 1.00265062 1.00589145 0.98324293\n",
      " 0.99856812 1.01050159 0.98735058 1.00477345 1.0047986  0.98704912\n",
      " 0.98471269 0.99040311 1.03033618 1.0592026  1.0826425  1.08412483\n",
      " 1.07049543 1.05398968 1.05451717 1.07018139 1.08280581 1.08623509\n",
      " 1.09252844 1.08598392 1.10463779 1.12575384 1.1251759  1.10544175\n",
      " 1.08592105 1.06632506 1.05795902 1.03377803 1.05627582]\n"
     ]
    }
   ],
   "source": [
    "Y_test = []\n",
    "for i in range(60,len(inputs)):\n",
    "  Y_test.append(inputs[i,0])\n",
    "Y_test = np.array(Y_test)\n",
    "print(Y_test)"
   ]
  },
  {
   "cell_type": "markdown",
   "metadata": {
    "id": "9QhfTbHoiQgD"
   },
   "source": [
    "#### 4.3.5 Model prediction"
   ]
  },
  {
   "cell_type": "code",
   "execution_count": 99,
   "metadata": {
    "colab": {
     "base_uri": "https://localhost:8080/"
    },
    "id": "lOyJyiwOiQgF",
    "outputId": "261a90d8-2a93-4981-d907-3ccaeec08ee2"
   },
   "outputs": [
    {
     "name": "stdout",
     "output_type": "stream",
     "text": [
      "4/4 [==============================] - 0s 10ms/step\n",
      "MSE: 0.001216\n",
      "MAE: 0.026799\n"
     ]
    }
   ],
   "source": [
    "from sklearn.metrics import mean_squared_error, mean_absolute_error\n",
    "predicted_stock_price = regressor.predict(X_test)\n",
    "mse = mean_squared_error(Y_test, predicted_stock_price[:,0])\n",
    "mae = mean_absolute_error(Y_test,predicted_stock_price[:,0])\n",
    "print('MSE: %f' % mse)\n",
    "print('MAE: %f' % mae)"
   ]
  },
  {
   "cell_type": "code",
   "execution_count": 100,
   "metadata": {
    "id": "q6xWROjyiQgI"
   },
   "outputs": [],
   "source": [
    "#inverse the scaled value\n",
    "predicted_stock_price = sc.inverse_transform(predicted_stock_price)"
   ]
  },
  {
   "cell_type": "markdown",
   "metadata": {
    "id": "6kRCBnRbiQgJ"
   },
   "source": [
    "#### 4.3.6 Result visualization"
   ]
  },
  {
   "cell_type": "code",
   "execution_count": 101,
   "metadata": {
    "colab": {
     "base_uri": "https://localhost:8080/",
     "height": 472
    },
    "id": "_BGPmPDRiQgK",
    "outputId": "f021fdb6-515c-4719-d7df-52f2db17ff21"
   },
   "outputs": [
    {
     "data": {
      "image/png": "[encoded data removed]",
      "text/plain": [
       "<Figure size 640x480 with 1 Axes>"
      ]
     },
     "metadata": {},
     "output_type": "display_data"
    }
   ],
   "source": [
    "##visualize the prediction and real price\n",
    "plt.plot(real_stock_price, color = 'red', label = 'Real price')\n",
    "plt.plot(predicted_stock_price, color = 'blue', label = 'Predicted price')\n",
    "\n",
    "plt.title('Google price prediction')\n",
    "plt.xlabel('Time')\n",
    "plt.ylabel('Price')\n",
    "plt.legend()\n",
    "plt.show()"
   ]
  }
 ],
 "metadata": {
  "accelerator": "GPU",
  "colab": {
   "gpuType": "T4",
   "provenance": []
  },
  "gpuClass": "standard",
  "kernelspec": {
   "display_name": "Python 3 (ipykernel)",
   "language": "python",
   "name": "python3"
  },
  "language_info": {
   "codemirror_mode": {
    "name": "ipython",
    "version": 3
   },
   "file_extension": ".py",
   "mimetype": "text/x-python",
   "name": "python",
   "nbconvert_exporter": "python",
   "pygments_lexer": "ipython3",
   "version": "3.10.9"
  }
 },
 "nbformat": 4,
 "nbformat_minor": 1
}
