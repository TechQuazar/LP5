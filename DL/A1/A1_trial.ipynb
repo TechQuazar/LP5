{
 "cells": [
  {
   "cell_type": "code",
   "execution_count": 2,
   "id": "9efab36a",
   "metadata": {},
   "outputs": [],
   "source": [
    "import pandas as pd\n",
    "import numpy as np"
   ]
  },
  {
   "cell_type": "code",
   "execution_count": 3,
   "id": "0a3b62a1",
   "metadata": {},
   "outputs": [
    {
     "data": {
      "text/html": [
       "<div>\n",
       "<style scoped>\n",
       "    .dataframe tbody tr th:only-of-type {\n",
       "        vertical-align: middle;\n",
       "    }\n",
       "\n",
       "    .dataframe tbody tr th {\n",
       "        vertical-align: top;\n",
       "    }\n",
       "\n",
       "    .dataframe thead th {\n",
       "        text-align: right;\n",
       "    }\n",
       "</style>\n",
       "<table border=\"1\" class=\"dataframe\">\n",
       "  <thead>\n",
       "    <tr style=\"text-align: right;\">\n",
       "      <th></th>\n",
       "      <th>CRIM</th>\n",
       "      <th>ZN</th>\n",
       "      <th>INDUS</th>\n",
       "      <th>CHAS</th>\n",
       "      <th>NOX</th>\n",
       "      <th>RM</th>\n",
       "      <th>AGE</th>\n",
       "      <th>DIS</th>\n",
       "      <th>RAD</th>\n",
       "      <th>TAX</th>\n",
       "      <th>PTRATIO</th>\n",
       "      <th>B</th>\n",
       "      <th>LSTAT</th>\n",
       "      <th>MEDV</th>\n",
       "    </tr>\n",
       "  </thead>\n",
       "  <tbody>\n",
       "    <tr>\n",
       "      <th>0</th>\n",
       "      <td>0.00632</td>\n",
       "      <td>18.0</td>\n",
       "      <td>2.31</td>\n",
       "      <td>0</td>\n",
       "      <td>0.538</td>\n",
       "      <td>6.575</td>\n",
       "      <td>65.2</td>\n",
       "      <td>4.0900</td>\n",
       "      <td>1</td>\n",
       "      <td>296.0</td>\n",
       "      <td>15.3</td>\n",
       "      <td>396.90</td>\n",
       "      <td>4.98</td>\n",
       "      <td>24.0</td>\n",
       "    </tr>\n",
       "    <tr>\n",
       "      <th>1</th>\n",
       "      <td>0.02731</td>\n",
       "      <td>0.0</td>\n",
       "      <td>7.07</td>\n",
       "      <td>0</td>\n",
       "      <td>0.469</td>\n",
       "      <td>6.421</td>\n",
       "      <td>78.9</td>\n",
       "      <td>4.9671</td>\n",
       "      <td>2</td>\n",
       "      <td>242.0</td>\n",
       "      <td>17.8</td>\n",
       "      <td>396.90</td>\n",
       "      <td>9.14</td>\n",
       "      <td>21.6</td>\n",
       "    </tr>\n",
       "    <tr>\n",
       "      <th>2</th>\n",
       "      <td>0.02729</td>\n",
       "      <td>0.0</td>\n",
       "      <td>7.07</td>\n",
       "      <td>0</td>\n",
       "      <td>0.469</td>\n",
       "      <td>7.185</td>\n",
       "      <td>61.1</td>\n",
       "      <td>4.9671</td>\n",
       "      <td>2</td>\n",
       "      <td>242.0</td>\n",
       "      <td>17.8</td>\n",
       "      <td>392.83</td>\n",
       "      <td>4.03</td>\n",
       "      <td>34.7</td>\n",
       "    </tr>\n",
       "    <tr>\n",
       "      <th>3</th>\n",
       "      <td>0.03237</td>\n",
       "      <td>0.0</td>\n",
       "      <td>2.18</td>\n",
       "      <td>0</td>\n",
       "      <td>0.458</td>\n",
       "      <td>6.998</td>\n",
       "      <td>45.8</td>\n",
       "      <td>6.0622</td>\n",
       "      <td>3</td>\n",
       "      <td>222.0</td>\n",
       "      <td>18.7</td>\n",
       "      <td>394.63</td>\n",
       "      <td>2.94</td>\n",
       "      <td>33.4</td>\n",
       "    </tr>\n",
       "    <tr>\n",
       "      <th>4</th>\n",
       "      <td>0.06905</td>\n",
       "      <td>0.0</td>\n",
       "      <td>2.18</td>\n",
       "      <td>0</td>\n",
       "      <td>0.458</td>\n",
       "      <td>7.147</td>\n",
       "      <td>54.2</td>\n",
       "      <td>6.0622</td>\n",
       "      <td>3</td>\n",
       "      <td>222.0</td>\n",
       "      <td>18.7</td>\n",
       "      <td>396.90</td>\n",
       "      <td>5.33</td>\n",
       "      <td>36.2</td>\n",
       "    </tr>\n",
       "    <tr>\n",
       "      <th>5</th>\n",
       "      <td>0.02985</td>\n",
       "      <td>0.0</td>\n",
       "      <td>2.18</td>\n",
       "      <td>0</td>\n",
       "      <td>0.458</td>\n",
       "      <td>6.430</td>\n",
       "      <td>58.7</td>\n",
       "      <td>6.0622</td>\n",
       "      <td>3</td>\n",
       "      <td>222.0</td>\n",
       "      <td>18.7</td>\n",
       "      <td>394.12</td>\n",
       "      <td>5.21</td>\n",
       "      <td>28.7</td>\n",
       "    </tr>\n",
       "    <tr>\n",
       "      <th>6</th>\n",
       "      <td>0.08829</td>\n",
       "      <td>12.5</td>\n",
       "      <td>7.87</td>\n",
       "      <td>0</td>\n",
       "      <td>0.524</td>\n",
       "      <td>6.012</td>\n",
       "      <td>66.6</td>\n",
       "      <td>5.5605</td>\n",
       "      <td>5</td>\n",
       "      <td>311.0</td>\n",
       "      <td>15.2</td>\n",
       "      <td>395.60</td>\n",
       "      <td>12.43</td>\n",
       "      <td>22.9</td>\n",
       "    </tr>\n",
       "    <tr>\n",
       "      <th>7</th>\n",
       "      <td>0.14455</td>\n",
       "      <td>12.5</td>\n",
       "      <td>7.87</td>\n",
       "      <td>0</td>\n",
       "      <td>0.524</td>\n",
       "      <td>6.172</td>\n",
       "      <td>96.1</td>\n",
       "      <td>5.9505</td>\n",
       "      <td>5</td>\n",
       "      <td>311.0</td>\n",
       "      <td>15.2</td>\n",
       "      <td>396.90</td>\n",
       "      <td>19.15</td>\n",
       "      <td>27.1</td>\n",
       "    </tr>\n",
       "    <tr>\n",
       "      <th>8</th>\n",
       "      <td>0.21124</td>\n",
       "      <td>12.5</td>\n",
       "      <td>7.87</td>\n",
       "      <td>0</td>\n",
       "      <td>0.524</td>\n",
       "      <td>5.631</td>\n",
       "      <td>100.0</td>\n",
       "      <td>6.0821</td>\n",
       "      <td>5</td>\n",
       "      <td>311.0</td>\n",
       "      <td>15.2</td>\n",
       "      <td>386.63</td>\n",
       "      <td>29.93</td>\n",
       "      <td>16.5</td>\n",
       "    </tr>\n",
       "    <tr>\n",
       "      <th>9</th>\n",
       "      <td>0.17004</td>\n",
       "      <td>12.5</td>\n",
       "      <td>7.87</td>\n",
       "      <td>0</td>\n",
       "      <td>0.524</td>\n",
       "      <td>6.004</td>\n",
       "      <td>85.9</td>\n",
       "      <td>6.5921</td>\n",
       "      <td>5</td>\n",
       "      <td>311.0</td>\n",
       "      <td>15.2</td>\n",
       "      <td>386.71</td>\n",
       "      <td>17.10</td>\n",
       "      <td>18.9</td>\n",
       "    </tr>\n",
       "  </tbody>\n",
       "</table>\n",
       "</div>"
      ],
      "text/plain": [
       "      CRIM    ZN  INDUS  CHAS    NOX     RM    AGE     DIS  RAD    TAX  \\\n",
       "0  0.00632  18.0   2.31     0  0.538  6.575   65.2  4.0900    1  296.0   \n",
       "1  0.02731   0.0   7.07     0  0.469  6.421   78.9  4.9671    2  242.0   \n",
       "2  0.02729   0.0   7.07     0  0.469  7.185   61.1  4.9671    2  242.0   \n",
       "3  0.03237   0.0   2.18     0  0.458  6.998   45.8  6.0622    3  222.0   \n",
       "4  0.06905   0.0   2.18     0  0.458  7.147   54.2  6.0622    3  222.0   \n",
       "5  0.02985   0.0   2.18     0  0.458  6.430   58.7  6.0622    3  222.0   \n",
       "6  0.08829  12.5   7.87     0  0.524  6.012   66.6  5.5605    5  311.0   \n",
       "7  0.14455  12.5   7.87     0  0.524  6.172   96.1  5.9505    5  311.0   \n",
       "8  0.21124  12.5   7.87     0  0.524  5.631  100.0  6.0821    5  311.0   \n",
       "9  0.17004  12.5   7.87     0  0.524  6.004   85.9  6.5921    5  311.0   \n",
       "\n",
       "   PTRATIO       B  LSTAT  MEDV  \n",
       "0     15.3  396.90   4.98  24.0  \n",
       "1     17.8  396.90   9.14  21.6  \n",
       "2     17.8  392.83   4.03  34.7  \n",
       "3     18.7  394.63   2.94  33.4  \n",
       "4     18.7  396.90   5.33  36.2  \n",
       "5     18.7  394.12   5.21  28.7  \n",
       "6     15.2  395.60  12.43  22.9  \n",
       "7     15.2  396.90  19.15  27.1  \n",
       "8     15.2  386.63  29.93  16.5  \n",
       "9     15.2  386.71  17.10  18.9  "
      ]
     },
     "execution_count": 3,
     "metadata": {},
     "output_type": "execute_result"
    }
   ],
   "source": [
    "col_names = ['CRIM', 'ZN', 'INDUS', 'CHAS', 'NOX', 'RM', 'AGE', 'DIS', 'RAD', 'TAX', 'PTRATIO', 'B', 'LSTAT', 'MEDV']\n",
    "df = pd.read_csv('./housing.csv', names=col_names,header=None,delimiter=r\"\\s+\")\n",
    "df.head(10)"
   ]
  },
  {
   "cell_type": "code",
   "execution_count": 4,
   "id": "f78e5cd5",
   "metadata": {},
   "outputs": [
    {
     "data": {
      "text/plain": [
       "(506, 14)"
      ]
     },
     "execution_count": 4,
     "metadata": {},
     "output_type": "execute_result"
    }
   ],
   "source": [
    "df.shape"
   ]
  },
  {
   "cell_type": "code",
   "execution_count": 5,
   "id": "2f9681b2",
   "metadata": {},
   "outputs": [
    {
     "data": {
      "text/plain": [
       "CRIM       0\n",
       "ZN         0\n",
       "INDUS      0\n",
       "CHAS       0\n",
       "NOX        0\n",
       "RM         0\n",
       "AGE        0\n",
       "DIS        0\n",
       "RAD        0\n",
       "TAX        0\n",
       "PTRATIO    0\n",
       "B          0\n",
       "LSTAT      0\n",
       "MEDV       0\n",
       "dtype: int64"
      ]
     },
     "execution_count": 5,
     "metadata": {},
     "output_type": "execute_result"
    }
   ],
   "source": [
    "df.isnull().sum()"
   ]
  },
  {
   "cell_type": "code",
   "execution_count": 6,
   "id": "4a3fcd65",
   "metadata": {},
   "outputs": [
    {
     "data": {
      "text/plain": [
       "0    24.0\n",
       "1    21.6\n",
       "2    34.7\n",
       "3    33.4\n",
       "4    36.2\n",
       "Name: MEDV, dtype: float64"
      ]
     },
     "execution_count": 6,
     "metadata": {},
     "output_type": "execute_result"
    }
   ],
   "source": [
    "Y = df.pop('MEDV')\n",
    "Y.head(5)"
   ]
  },
  {
   "cell_type": "code",
   "execution_count": 7,
   "id": "d9928945",
   "metadata": {},
   "outputs": [
    {
     "data": {
      "text/html": [
       "<div>\n",
       "<style scoped>\n",
       "    .dataframe tbody tr th:only-of-type {\n",
       "        vertical-align: middle;\n",
       "    }\n",
       "\n",
       "    .dataframe tbody tr th {\n",
       "        vertical-align: top;\n",
       "    }\n",
       "\n",
       "    .dataframe thead th {\n",
       "        text-align: right;\n",
       "    }\n",
       "</style>\n",
       "<table border=\"1\" class=\"dataframe\">\n",
       "  <thead>\n",
       "    <tr style=\"text-align: right;\">\n",
       "      <th></th>\n",
       "      <th>CRIM</th>\n",
       "      <th>ZN</th>\n",
       "      <th>INDUS</th>\n",
       "      <th>CHAS</th>\n",
       "      <th>NOX</th>\n",
       "      <th>RM</th>\n",
       "      <th>AGE</th>\n",
       "      <th>DIS</th>\n",
       "      <th>RAD</th>\n",
       "      <th>TAX</th>\n",
       "      <th>PTRATIO</th>\n",
       "      <th>B</th>\n",
       "      <th>LSTAT</th>\n",
       "    </tr>\n",
       "  </thead>\n",
       "  <tbody>\n",
       "    <tr>\n",
       "      <th>0</th>\n",
       "      <td>0.00632</td>\n",
       "      <td>18.0</td>\n",
       "      <td>2.31</td>\n",
       "      <td>0</td>\n",
       "      <td>0.538</td>\n",
       "      <td>6.575</td>\n",
       "      <td>65.2</td>\n",
       "      <td>4.0900</td>\n",
       "      <td>1</td>\n",
       "      <td>296.0</td>\n",
       "      <td>15.3</td>\n",
       "      <td>396.90</td>\n",
       "      <td>4.98</td>\n",
       "    </tr>\n",
       "    <tr>\n",
       "      <th>1</th>\n",
       "      <td>0.02731</td>\n",
       "      <td>0.0</td>\n",
       "      <td>7.07</td>\n",
       "      <td>0</td>\n",
       "      <td>0.469</td>\n",
       "      <td>6.421</td>\n",
       "      <td>78.9</td>\n",
       "      <td>4.9671</td>\n",
       "      <td>2</td>\n",
       "      <td>242.0</td>\n",
       "      <td>17.8</td>\n",
       "      <td>396.90</td>\n",
       "      <td>9.14</td>\n",
       "    </tr>\n",
       "    <tr>\n",
       "      <th>2</th>\n",
       "      <td>0.02729</td>\n",
       "      <td>0.0</td>\n",
       "      <td>7.07</td>\n",
       "      <td>0</td>\n",
       "      <td>0.469</td>\n",
       "      <td>7.185</td>\n",
       "      <td>61.1</td>\n",
       "      <td>4.9671</td>\n",
       "      <td>2</td>\n",
       "      <td>242.0</td>\n",
       "      <td>17.8</td>\n",
       "      <td>392.83</td>\n",
       "      <td>4.03</td>\n",
       "    </tr>\n",
       "    <tr>\n",
       "      <th>3</th>\n",
       "      <td>0.03237</td>\n",
       "      <td>0.0</td>\n",
       "      <td>2.18</td>\n",
       "      <td>0</td>\n",
       "      <td>0.458</td>\n",
       "      <td>6.998</td>\n",
       "      <td>45.8</td>\n",
       "      <td>6.0622</td>\n",
       "      <td>3</td>\n",
       "      <td>222.0</td>\n",
       "      <td>18.7</td>\n",
       "      <td>394.63</td>\n",
       "      <td>2.94</td>\n",
       "    </tr>\n",
       "    <tr>\n",
       "      <th>4</th>\n",
       "      <td>0.06905</td>\n",
       "      <td>0.0</td>\n",
       "      <td>2.18</td>\n",
       "      <td>0</td>\n",
       "      <td>0.458</td>\n",
       "      <td>7.147</td>\n",
       "      <td>54.2</td>\n",
       "      <td>6.0622</td>\n",
       "      <td>3</td>\n",
       "      <td>222.0</td>\n",
       "      <td>18.7</td>\n",
       "      <td>396.90</td>\n",
       "      <td>5.33</td>\n",
       "    </tr>\n",
       "  </tbody>\n",
       "</table>\n",
       "</div>"
      ],
      "text/plain": [
       "      CRIM    ZN  INDUS  CHAS    NOX     RM   AGE     DIS  RAD    TAX  \\\n",
       "0  0.00632  18.0   2.31     0  0.538  6.575  65.2  4.0900    1  296.0   \n",
       "1  0.02731   0.0   7.07     0  0.469  6.421  78.9  4.9671    2  242.0   \n",
       "2  0.02729   0.0   7.07     0  0.469  7.185  61.1  4.9671    2  242.0   \n",
       "3  0.03237   0.0   2.18     0  0.458  6.998  45.8  6.0622    3  222.0   \n",
       "4  0.06905   0.0   2.18     0  0.458  7.147  54.2  6.0622    3  222.0   \n",
       "\n",
       "   PTRATIO       B  LSTAT  \n",
       "0     15.3  396.90   4.98  \n",
       "1     17.8  396.90   9.14  \n",
       "2     17.8  392.83   4.03  \n",
       "3     18.7  394.63   2.94  \n",
       "4     18.7  396.90   5.33  "
      ]
     },
     "execution_count": 7,
     "metadata": {},
     "output_type": "execute_result"
    }
   ],
   "source": [
    "X = df\n",
    "X.head(5)"
   ]
  },
  {
   "cell_type": "code",
   "execution_count": 8,
   "id": "9789294b",
   "metadata": {},
   "outputs": [],
   "source": [
    "from sklearn.model_selection import train_test_split\n",
    "x_train,x_test,y_train,y_test = train_test_split(X,Y,test_size=0.3,random_state=123)"
   ]
  },
  {
   "cell_type": "code",
   "execution_count": 9,
   "id": "fc4513f3",
   "metadata": {},
   "outputs": [],
   "source": [
    "#normalization\n",
    "from sklearn.preprocessing import StandardScaler\n",
    "\n",
    "scalar = StandardScaler()\n",
    "x_train_norm = scalar.fit_transform(x_train)\n",
    "x_test_norm =scalar.transform(x_test)"
   ]
  },
  {
   "cell_type": "code",
   "execution_count": 10,
   "id": "03e71fe7",
   "metadata": {},
   "outputs": [
    {
     "data": {
      "text/plain": [
       "array([[-0.35842932,  0.37320621, -0.57528914, ...,  0.07439155,\n",
       "         0.3453823 , -0.83365402],\n",
       "       [-0.37674054,  0.41676539, -0.76854658, ..., -0.77056919,\n",
       "         0.41521182, -1.01390057],\n",
       "       [-0.37507786, -0.49797742, -1.23412134, ..., -0.30114655,\n",
       "         0.41521182, -0.43572509],\n",
       "       ...,\n",
       "       [-0.34436402, -0.49797742, -0.51379813, ...,  0.54381419,\n",
       "         0.41521182, -0.67836468],\n",
       "       [ 0.61710364, -0.49797742,  1.05568658, ...,  0.82546777,\n",
       "         0.41521182,  1.52618932],\n",
       "       [ 0.11316957, -0.49797742,  1.05568658, ...,  0.82546777,\n",
       "        -0.06550689, -0.75878238]])"
      ]
     },
     "execution_count": 10,
     "metadata": {},
     "output_type": "execute_result"
    }
   ],
   "source": [
    "x_train_norm"
   ]
  },
  {
   "cell_type": "code",
   "execution_count": 11,
   "id": "c41ca0ee",
   "metadata": {},
   "outputs": [],
   "source": [
    "#model building\n",
    "from keras.models import Sequential\n",
    "from keras.layers import Dense\n",
    "\n",
    "model = Sequential()"
   ]
  },
  {
   "cell_type": "code",
   "execution_count": 12,
   "id": "dd41f678",
   "metadata": {},
   "outputs": [],
   "source": [
    "#layer 1\n",
    "l1 = Dense(units=128, input_shape=(13,),activation='relu',name='Dense1')\n",
    "#layer 2\n",
    "l2 = Dense(units=64, activation='relu',name='Dense2')\n",
    "#layer 3\n",
    "l3 = Dense(units=1,activation='linear',name=\"output\")\n",
    "\n",
    "model.add(l1)\n",
    "model.add(l2)\n",
    "model.add(l3)"
   ]
  },
  {
   "cell_type": "code",
   "execution_count": 13,
   "id": "d696e76c",
   "metadata": {},
   "outputs": [],
   "source": [
    "model.compile(optimizer='adam', loss='mse',metrics=['mae'])"
   ]
  },
  {
   "cell_type": "code",
   "execution_count": 14,
   "id": "bdcc151a",
   "metadata": {},
   "outputs": [
    {
     "name": "stdout",
     "output_type": "stream",
     "text": [
      "Model: \"sequential\"\n",
      "_________________________________________________________________\n",
      " Layer (type)                Output Shape              Param #   \n",
      "=================================================================\n",
      " Dense1 (Dense)              (None, 128)               1792      \n",
      "                                                                 \n",
      " Dense2 (Dense)              (None, 64)                8256      \n",
      "                                                                 \n",
      " output (Dense)              (None, 1)                 65        \n",
      "                                                                 \n",
      "=================================================================\n",
      "Total params: 10,113\n",
      "Trainable params: 10,113\n",
      "Non-trainable params: 0\n",
      "_________________________________________________________________\n"
     ]
    }
   ],
   "source": [
    "model.summary()"
   ]
  },
  {
   "cell_type": "code",
   "execution_count": 15,
   "id": "e2b566bd",
   "metadata": {},
   "outputs": [
    {
     "name": "stdout",
     "output_type": "stream",
     "text": [
      "Epoch 1/100\n",
      "11/11 [==============================] - 2s 25ms/step - loss: 569.0150 - mae: 21.9850 - val_loss: 570.6290 - val_mae: 21.9846\n",
      "Epoch 2/100\n",
      "11/11 [==============================] - 0s 8ms/step - loss: 497.4014 - mae: 20.3352 - val_loss: 490.0921 - val_mae: 20.2156\n",
      "Epoch 3/100\n",
      "11/11 [==============================] - 0s 7ms/step - loss: 407.5527 - mae: 18.1155 - val_loss: 386.7246 - val_mae: 17.7312\n",
      "Epoch 4/100\n",
      "11/11 [==============================] - 0s 9ms/step - loss: 297.4117 - mae: 15.0729 - val_loss: 267.3827 - val_mae: 14.3466\n",
      "Epoch 5/100\n",
      "11/11 [==============================] - 0s 9ms/step - loss: 184.0292 - mae: 11.3502 - val_loss: 156.2265 - val_mae: 10.2497\n",
      "Epoch 6/100\n",
      "11/11 [==============================] - 0s 9ms/step - loss: 105.7696 - mae: 8.1018 - val_loss: 84.2236 - val_mae: 7.3190\n",
      "Epoch 7/100\n",
      "11/11 [==============================] - 0s 9ms/step - loss: 68.5402 - mae: 6.3061 - val_loss: 52.8776 - val_mae: 5.7524\n",
      "Epoch 8/100\n",
      "11/11 [==============================] - 0s 8ms/step - loss: 50.7974 - mae: 5.4399 - val_loss: 37.1674 - val_mae: 4.9062\n",
      "Epoch 9/100\n",
      "11/11 [==============================] - 0s 9ms/step - loss: 37.6919 - mae: 4.6417 - val_loss: 28.0110 - val_mae: 4.2937\n",
      "Epoch 10/100\n",
      "11/11 [==============================] - 0s 9ms/step - loss: 30.0104 - mae: 4.0359 - val_loss: 23.5849 - val_mae: 3.8575\n",
      "Epoch 11/100\n",
      "11/11 [==============================] - 0s 9ms/step - loss: 26.1088 - mae: 3.7189 - val_loss: 20.6715 - val_mae: 3.4661\n",
      "Epoch 12/100\n",
      "11/11 [==============================] - 0s 11ms/step - loss: 23.5435 - mae: 3.5183 - val_loss: 19.2422 - val_mae: 3.3014\n",
      "Epoch 13/100\n",
      "11/11 [==============================] - 0s 7ms/step - loss: 21.9311 - mae: 3.3952 - val_loss: 18.2317 - val_mae: 3.2306\n",
      "Epoch 14/100\n",
      "11/11 [==============================] - 0s 10ms/step - loss: 20.8914 - mae: 3.2858 - val_loss: 17.5883 - val_mae: 3.1633\n",
      "Epoch 15/100\n",
      "11/11 [==============================] - 0s 10ms/step - loss: 19.9270 - mae: 3.2002 - val_loss: 16.4911 - val_mae: 3.1031\n",
      "Epoch 16/100\n",
      "11/11 [==============================] - 0s 8ms/step - loss: 18.7588 - mae: 3.1063 - val_loss: 15.8065 - val_mae: 3.0565\n",
      "Epoch 17/100\n",
      "11/11 [==============================] - 0s 10ms/step - loss: 17.9964 - mae: 3.0287 - val_loss: 15.1598 - val_mae: 3.0161\n",
      "Epoch 18/100\n",
      "11/11 [==============================] - 0s 9ms/step - loss: 17.3211 - mae: 2.9775 - val_loss: 14.4901 - val_mae: 2.9988\n",
      "Epoch 19/100\n",
      "11/11 [==============================] - 0s 7ms/step - loss: 16.8770 - mae: 2.9540 - val_loss: 13.7046 - val_mae: 2.9414\n",
      "Epoch 20/100\n",
      "11/11 [==============================] - 0s 10ms/step - loss: 16.2868 - mae: 2.8761 - val_loss: 13.1957 - val_mae: 2.8555\n",
      "Epoch 21/100\n",
      "11/11 [==============================] - 0s 10ms/step - loss: 15.5497 - mae: 2.7955 - val_loss: 12.5258 - val_mae: 2.8120\n",
      "Epoch 22/100\n",
      "11/11 [==============================] - 0s 9ms/step - loss: 15.1241 - mae: 2.7730 - val_loss: 12.0364 - val_mae: 2.7522\n",
      "Epoch 23/100\n",
      "11/11 [==============================] - 0s 8ms/step - loss: 14.6148 - mae: 2.7154 - val_loss: 11.5062 - val_mae: 2.7032\n",
      "Epoch 24/100\n",
      "11/11 [==============================] - 0s 7ms/step - loss: 14.2655 - mae: 2.6710 - val_loss: 10.9574 - val_mae: 2.6322\n",
      "Epoch 25/100\n",
      "11/11 [==============================] - 0s 8ms/step - loss: 13.8327 - mae: 2.6279 - val_loss: 10.5440 - val_mae: 2.6052\n",
      "Epoch 26/100\n",
      "11/11 [==============================] - 0s 8ms/step - loss: 13.5645 - mae: 2.6181 - val_loss: 10.1889 - val_mae: 2.5558\n",
      "Epoch 27/100\n",
      "11/11 [==============================] - 0s 8ms/step - loss: 13.1367 - mae: 2.5528 - val_loss: 9.7591 - val_mae: 2.4649\n",
      "Epoch 28/100\n",
      "11/11 [==============================] - 0s 8ms/step - loss: 12.8309 - mae: 2.5133 - val_loss: 9.5253 - val_mae: 2.4254\n",
      "Epoch 29/100\n",
      "11/11 [==============================] - 0s 7ms/step - loss: 12.6655 - mae: 2.5108 - val_loss: 9.3776 - val_mae: 2.4261\n",
      "Epoch 30/100\n",
      "11/11 [==============================] - 0s 9ms/step - loss: 12.2972 - mae: 2.4521 - val_loss: 9.0252 - val_mae: 2.3285\n",
      "Epoch 31/100\n",
      "11/11 [==============================] - 0s 8ms/step - loss: 12.0790 - mae: 2.4376 - val_loss: 8.8388 - val_mae: 2.3874\n",
      "Epoch 32/100\n",
      "11/11 [==============================] - 0s 6ms/step - loss: 11.8425 - mae: 2.4286 - val_loss: 8.9122 - val_mae: 2.4476\n",
      "Epoch 33/100\n",
      "11/11 [==============================] - 0s 7ms/step - loss: 11.6358 - mae: 2.4040 - val_loss: 8.5140 - val_mae: 2.3510\n",
      "Epoch 34/100\n",
      "11/11 [==============================] - 0s 9ms/step - loss: 11.3887 - mae: 2.3727 - val_loss: 8.6670 - val_mae: 2.4150\n",
      "Epoch 35/100\n",
      "11/11 [==============================] - 0s 9ms/step - loss: 11.2702 - mae: 2.3595 - val_loss: 8.4755 - val_mae: 2.3864\n",
      "Epoch 36/100\n",
      "11/11 [==============================] - 0s 8ms/step - loss: 11.0316 - mae: 2.3429 - val_loss: 8.4780 - val_mae: 2.4195\n",
      "Epoch 37/100\n",
      "11/11 [==============================] - 0s 10ms/step - loss: 10.9024 - mae: 2.3476 - val_loss: 8.4749 - val_mae: 2.4302\n",
      "Epoch 38/100\n",
      "11/11 [==============================] - 0s 9ms/step - loss: 10.7606 - mae: 2.3309 - val_loss: 8.2952 - val_mae: 2.3630\n",
      "Epoch 39/100\n",
      "11/11 [==============================] - 0s 8ms/step - loss: 10.6873 - mae: 2.3083 - val_loss: 8.3219 - val_mae: 2.3652\n",
      "Epoch 40/100\n",
      "11/11 [==============================] - 0s 10ms/step - loss: 10.4649 - mae: 2.2830 - val_loss: 8.2325 - val_mae: 2.3614\n",
      "Epoch 41/100\n",
      "11/11 [==============================] - 0s 10ms/step - loss: 10.3076 - mae: 2.2621 - val_loss: 8.0496 - val_mae: 2.3242\n",
      "Epoch 42/100\n",
      "11/11 [==============================] - 0s 8ms/step - loss: 10.3445 - mae: 2.2770 - val_loss: 8.4543 - val_mae: 2.3863\n",
      "Epoch 43/100\n",
      "11/11 [==============================] - 0s 10ms/step - loss: 10.1131 - mae: 2.2633 - val_loss: 8.1268 - val_mae: 2.3411\n",
      "Epoch 44/100\n",
      "11/11 [==============================] - 0s 9ms/step - loss: 9.9537 - mae: 2.2306 - val_loss: 8.0005 - val_mae: 2.2964\n",
      "Epoch 45/100\n",
      "11/11 [==============================] - 0s 8ms/step - loss: 9.9224 - mae: 2.2114 - val_loss: 7.9007 - val_mae: 2.2823\n",
      "Epoch 46/100\n",
      "11/11 [==============================] - 0s 9ms/step - loss: 9.7419 - mae: 2.2093 - val_loss: 8.4744 - val_mae: 2.3678\n",
      "Epoch 47/100\n",
      "11/11 [==============================] - 0s 9ms/step - loss: 9.7443 - mae: 2.2085 - val_loss: 8.2997 - val_mae: 2.3399\n",
      "Epoch 48/100\n",
      "11/11 [==============================] - 0s 11ms/step - loss: 9.5898 - mae: 2.1976 - val_loss: 8.4522 - val_mae: 2.3510\n",
      "Epoch 49/100\n",
      "11/11 [==============================] - 0s 8ms/step - loss: 9.4720 - mae: 2.1807 - val_loss: 8.2083 - val_mae: 2.3082\n",
      "Epoch 50/100\n",
      "11/11 [==============================] - 0s 9ms/step - loss: 9.4077 - mae: 2.1744 - val_loss: 8.4622 - val_mae: 2.3411\n",
      "Epoch 51/100\n",
      "11/11 [==============================] - 0s 9ms/step - loss: 9.3377 - mae: 2.1764 - val_loss: 8.2017 - val_mae: 2.3091\n",
      "Epoch 52/100\n",
      "11/11 [==============================] - 0s 9ms/step - loss: 9.2197 - mae: 2.1516 - val_loss: 8.1616 - val_mae: 2.2738\n",
      "Epoch 53/100\n",
      "11/11 [==============================] - 0s 9ms/step - loss: 9.2725 - mae: 2.1639 - val_loss: 8.3538 - val_mae: 2.2995\n",
      "Epoch 54/100\n",
      "11/11 [==============================] - 0s 9ms/step - loss: 9.0520 - mae: 2.1341 - val_loss: 8.0175 - val_mae: 2.2608\n",
      "Epoch 55/100\n",
      "11/11 [==============================] - 0s 8ms/step - loss: 9.0029 - mae: 2.1254 - val_loss: 7.9867 - val_mae: 2.2493\n",
      "Epoch 56/100\n",
      "11/11 [==============================] - 0s 9ms/step - loss: 9.1190 - mae: 2.1457 - val_loss: 8.8223 - val_mae: 2.3380\n",
      "Epoch 57/100\n",
      "11/11 [==============================] - 0s 9ms/step - loss: 8.9029 - mae: 2.1086 - val_loss: 7.6172 - val_mae: 2.1797\n",
      "Epoch 58/100\n",
      "11/11 [==============================] - 0s 8ms/step - loss: 8.7695 - mae: 2.1033 - val_loss: 8.6102 - val_mae: 2.3098\n",
      "Epoch 59/100\n",
      "11/11 [==============================] - 0s 9ms/step - loss: 8.7197 - mae: 2.1108 - val_loss: 8.8545 - val_mae: 2.3133\n",
      "Epoch 60/100\n",
      "11/11 [==============================] - 0s 8ms/step - loss: 8.5962 - mae: 2.0960 - val_loss: 8.1657 - val_mae: 2.2286\n",
      "Epoch 61/100\n",
      "11/11 [==============================] - 0s 8ms/step - loss: 8.5738 - mae: 2.0795 - val_loss: 8.5764 - val_mae: 2.2812\n",
      "Epoch 62/100\n"
     ]
    },
    {
     "name": "stdout",
     "output_type": "stream",
     "text": [
      "11/11 [==============================] - 0s 7ms/step - loss: 8.7111 - mae: 2.0950 - val_loss: 8.4009 - val_mae: 2.2290\n",
      "Epoch 63/100\n",
      "11/11 [==============================] - 0s 7ms/step - loss: 8.7347 - mae: 2.1081 - val_loss: 10.0022 - val_mae: 2.4190\n",
      "Epoch 64/100\n",
      "11/11 [==============================] - 0s 8ms/step - loss: 8.3747 - mae: 2.0690 - val_loss: 8.1823 - val_mae: 2.1796\n",
      "Epoch 65/100\n",
      "11/11 [==============================] - 0s 9ms/step - loss: 8.2800 - mae: 2.0416 - val_loss: 8.7668 - val_mae: 2.2709\n",
      "Epoch 66/100\n",
      "11/11 [==============================] - 0s 8ms/step - loss: 8.2698 - mae: 2.0585 - val_loss: 9.3332 - val_mae: 2.3144\n",
      "Epoch 67/100\n",
      "11/11 [==============================] - 0s 8ms/step - loss: 8.1660 - mae: 2.0306 - val_loss: 8.9288 - val_mae: 2.2708\n",
      "Epoch 68/100\n",
      "11/11 [==============================] - 0s 9ms/step - loss: 8.1388 - mae: 2.0330 - val_loss: 8.8563 - val_mae: 2.2561\n",
      "Epoch 69/100\n",
      "11/11 [==============================] - 0s 7ms/step - loss: 8.0772 - mae: 2.0110 - val_loss: 8.9125 - val_mae: 2.2462\n",
      "Epoch 70/100\n",
      "11/11 [==============================] - 0s 7ms/step - loss: 8.0015 - mae: 2.0122 - val_loss: 9.0065 - val_mae: 2.2510\n",
      "Epoch 71/100\n",
      "11/11 [==============================] - 0s 8ms/step - loss: 7.9164 - mae: 1.9968 - val_loss: 8.9611 - val_mae: 2.2553\n",
      "Epoch 72/100\n",
      "11/11 [==============================] - 0s 8ms/step - loss: 7.8394 - mae: 1.9768 - val_loss: 9.2972 - val_mae: 2.2994\n",
      "Epoch 73/100\n",
      "11/11 [==============================] - 0s 8ms/step - loss: 7.7993 - mae: 1.9808 - val_loss: 9.1127 - val_mae: 2.2454\n",
      "Epoch 74/100\n",
      "11/11 [==============================] - 0s 8ms/step - loss: 7.8914 - mae: 1.9904 - val_loss: 9.0607 - val_mae: 2.2323\n",
      "Epoch 75/100\n",
      "11/11 [==============================] - 0s 7ms/step - loss: 7.7527 - mae: 1.9654 - val_loss: 8.5622 - val_mae: 2.1440\n",
      "Epoch 76/100\n",
      "11/11 [==============================] - 0s 7ms/step - loss: 7.7254 - mae: 1.9550 - val_loss: 9.5399 - val_mae: 2.2696\n",
      "Epoch 77/100\n",
      "11/11 [==============================] - 0s 7ms/step - loss: 7.8059 - mae: 1.9867 - val_loss: 9.3329 - val_mae: 2.2562\n",
      "Epoch 78/100\n",
      "11/11 [==============================] - 0s 7ms/step - loss: 7.6823 - mae: 1.9598 - val_loss: 8.6068 - val_mae: 2.1659\n",
      "Epoch 79/100\n",
      "11/11 [==============================] - 0s 8ms/step - loss: 7.6153 - mae: 1.9419 - val_loss: 9.4164 - val_mae: 2.2721\n",
      "Epoch 80/100\n",
      "11/11 [==============================] - 0s 9ms/step - loss: 7.5283 - mae: 1.9547 - val_loss: 8.9130 - val_mae: 2.2076\n",
      "Epoch 81/100\n",
      "11/11 [==============================] - 0s 7ms/step - loss: 7.4410 - mae: 1.9064 - val_loss: 9.2912 - val_mae: 2.2416\n",
      "Epoch 82/100\n",
      "11/11 [==============================] - 0s 7ms/step - loss: 7.4409 - mae: 1.9277 - val_loss: 10.0122 - val_mae: 2.2900\n",
      "Epoch 83/100\n",
      "11/11 [==============================] - 0s 7ms/step - loss: 7.4595 - mae: 1.9319 - val_loss: 9.2297 - val_mae: 2.2083\n",
      "Epoch 84/100\n",
      "11/11 [==============================] - 0s 8ms/step - loss: 7.2461 - mae: 1.9062 - val_loss: 9.8309 - val_mae: 2.2536\n",
      "Epoch 85/100\n",
      "11/11 [==============================] - 0s 8ms/step - loss: 7.2073 - mae: 1.9004 - val_loss: 9.2432 - val_mae: 2.2424\n",
      "Epoch 86/100\n",
      "11/11 [==============================] - 0s 7ms/step - loss: 7.1905 - mae: 1.9034 - val_loss: 9.3678 - val_mae: 2.2724\n",
      "Epoch 87/100\n",
      "11/11 [==============================] - 0s 7ms/step - loss: 7.1544 - mae: 1.8755 - val_loss: 9.2367 - val_mae: 2.2118\n",
      "Epoch 88/100\n",
      "11/11 [==============================] - 0s 8ms/step - loss: 7.1254 - mae: 1.8818 - val_loss: 10.1991 - val_mae: 2.3128\n",
      "Epoch 89/100\n",
      "11/11 [==============================] - 0s 9ms/step - loss: 7.1958 - mae: 1.8978 - val_loss: 9.2370 - val_mae: 2.2059\n",
      "Epoch 90/100\n",
      "11/11 [==============================] - 0s 10ms/step - loss: 7.1140 - mae: 1.8878 - val_loss: 9.9600 - val_mae: 2.2813\n",
      "Epoch 91/100\n",
      "11/11 [==============================] - 0s 9ms/step - loss: 7.0932 - mae: 1.8840 - val_loss: 9.4947 - val_mae: 2.1751\n",
      "Epoch 92/100\n",
      "11/11 [==============================] - 0s 9ms/step - loss: 7.0575 - mae: 1.8620 - val_loss: 10.6818 - val_mae: 2.3138\n",
      "Epoch 93/100\n",
      "11/11 [==============================] - 0s 8ms/step - loss: 6.9409 - mae: 1.8388 - val_loss: 8.8654 - val_mae: 2.1108\n",
      "Epoch 94/100\n",
      "11/11 [==============================] - 0s 7ms/step - loss: 6.8462 - mae: 1.8531 - val_loss: 10.5928 - val_mae: 2.2997\n",
      "Epoch 95/100\n",
      "11/11 [==============================] - 0s 8ms/step - loss: 6.8412 - mae: 1.8490 - val_loss: 9.6029 - val_mae: 2.2057\n",
      "Epoch 96/100\n",
      "11/11 [==============================] - 0s 8ms/step - loss: 6.7601 - mae: 1.8329 - val_loss: 9.2697 - val_mae: 2.1484\n",
      "Epoch 97/100\n",
      "11/11 [==============================] - 0s 7ms/step - loss: 6.7364 - mae: 1.8367 - val_loss: 10.0200 - val_mae: 2.2090\n",
      "Epoch 98/100\n",
      "11/11 [==============================] - 0s 7ms/step - loss: 6.7405 - mae: 1.8265 - val_loss: 10.2679 - val_mae: 2.2126\n",
      "Epoch 99/100\n",
      "11/11 [==============================] - 0s 7ms/step - loss: 6.6946 - mae: 1.8273 - val_loss: 10.6310 - val_mae: 2.2879\n",
      "Epoch 100/100\n",
      "11/11 [==============================] - 0s 7ms/step - loss: 6.7124 - mae: 1.8375 - val_loss: 10.0164 - val_mae: 2.1612\n"
     ]
    }
   ],
   "source": [
    "#train the model\n",
    "history = model.fit(x_train_norm,y_train,epochs=100,validation_split=0.05)"
   ]
  },
  {
   "cell_type": "code",
   "execution_count": 16,
   "id": "ef96d8c1",
   "metadata": {},
   "outputs": [
    {
     "name": "stdout",
     "output_type": "stream",
     "text": [
      "5/5 [==============================] - 0s 4ms/step - loss: 17.4581 - mae: 2.6569\n",
      "MSE: 17.45806884765625\n",
      "MAE: 2.656933069229126\n"
     ]
    }
   ],
   "source": [
    "#evaluate the model\n",
    "mse_nn, mae_nn = model.evaluate(x_test_norm,y_test)\n",
    "print('MSE:',mse_nn)\n",
    "print('MAE:',mae_nn)"
   ]
  },
  {
   "cell_type": "code",
   "execution_count": 17,
   "id": "93c26fec",
   "metadata": {},
   "outputs": [
    {
     "data": {
      "text/html": [
       "<style>#sk-container-id-1 {color: black;background-color: white;}#sk-container-id-1 pre{padding: 0;}#sk-container-id-1 div.sk-toggleable {background-color: white;}#sk-container-id-1 label.sk-toggleable__label {cursor: pointer;display: block;width: 100%;margin-bottom: 0;padding: 0.3em;box-sizing: border-box;text-align: center;}#sk-container-id-1 label.sk-toggleable__label-arrow:before {content: \"▸\";float: left;margin-right: 0.25em;color: #696969;}#sk-container-id-1 label.sk-toggleable__label-arrow:hover:before {color: black;}#sk-container-id-1 div.sk-estimator:hover label.sk-toggleable__label-arrow:before {color: black;}#sk-container-id-1 div.sk-toggleable__content {max-height: 0;max-width: 0;overflow: hidden;text-align: left;background-color: #f0f8ff;}#sk-container-id-1 div.sk-toggleable__content pre {margin: 0.2em;color: black;border-radius: 0.25em;background-color: #f0f8ff;}#sk-container-id-1 input.sk-toggleable__control:checked~div.sk-toggleable__content {max-height: 200px;max-width: 100%;overflow: auto;}#sk-container-id-1 input.sk-toggleable__control:checked~label.sk-toggleable__label-arrow:before {content: \"▾\";}#sk-container-id-1 div.sk-estimator input.sk-toggleable__control:checked~label.sk-toggleable__label {background-color: #d4ebff;}#sk-container-id-1 div.sk-label input.sk-toggleable__control:checked~label.sk-toggleable__label {background-color: #d4ebff;}#sk-container-id-1 input.sk-hidden--visually {border: 0;clip: rect(1px 1px 1px 1px);clip: rect(1px, 1px, 1px, 1px);height: 1px;margin: -1px;overflow: hidden;padding: 0;position: absolute;width: 1px;}#sk-container-id-1 div.sk-estimator {font-family: monospace;background-color: #f0f8ff;border: 1px dotted black;border-radius: 0.25em;box-sizing: border-box;margin-bottom: 0.5em;}#sk-container-id-1 div.sk-estimator:hover {background-color: #d4ebff;}#sk-container-id-1 div.sk-parallel-item::after {content: \"\";width: 100%;border-bottom: 1px solid gray;flex-grow: 1;}#sk-container-id-1 div.sk-label:hover label.sk-toggleable__label {background-color: #d4ebff;}#sk-container-id-1 div.sk-serial::before {content: \"\";position: absolute;border-left: 1px solid gray;box-sizing: border-box;top: 0;bottom: 0;left: 50%;z-index: 0;}#sk-container-id-1 div.sk-serial {display: flex;flex-direction: column;align-items: center;background-color: white;padding-right: 0.2em;padding-left: 0.2em;position: relative;}#sk-container-id-1 div.sk-item {position: relative;z-index: 1;}#sk-container-id-1 div.sk-parallel {display: flex;align-items: stretch;justify-content: center;background-color: white;position: relative;}#sk-container-id-1 div.sk-item::before, #sk-container-id-1 div.sk-parallel-item::before {content: \"\";position: absolute;border-left: 1px solid gray;box-sizing: border-box;top: 0;bottom: 0;left: 50%;z-index: -1;}#sk-container-id-1 div.sk-parallel-item {display: flex;flex-direction: column;z-index: 1;position: relative;background-color: white;}#sk-container-id-1 div.sk-parallel-item:first-child::after {align-self: flex-end;width: 50%;}#sk-container-id-1 div.sk-parallel-item:last-child::after {align-self: flex-start;width: 50%;}#sk-container-id-1 div.sk-parallel-item:only-child::after {width: 0;}#sk-container-id-1 div.sk-dashed-wrapped {border: 1px dashed gray;margin: 0 0.4em 0.5em 0.4em;box-sizing: border-box;padding-bottom: 0.4em;background-color: white;}#sk-container-id-1 div.sk-label label {font-family: monospace;font-weight: bold;display: inline-block;line-height: 1.2em;}#sk-container-id-1 div.sk-label-container {text-align: center;}#sk-container-id-1 div.sk-container {/* jupyter's `normalize.less` sets `[hidden] { display: none; }` but bootstrap.min.css set `[hidden] { display: none !important; }` so we also need the `!important` here to be able to override the default hidden behavior on the sphinx rendered scikit-learn.org. See: https://github.com/scikit-learn/scikit-learn/issues/21755 */display: inline-block !important;position: relative;}#sk-container-id-1 div.sk-text-repr-fallback {display: none;}</style><div id=\"sk-container-id-1\" class=\"sk-top-container\"><div class=\"sk-text-repr-fallback\"><pre>LinearRegression()</pre><b>In a Jupyter environment, please rerun this cell to show the HTML representation or trust the notebook. <br />On GitHub, the HTML representation is unable to render, please try loading this page with nbviewer.org.</b></div><div class=\"sk-container\" hidden><div class=\"sk-item\"><div class=\"sk-estimator sk-toggleable\"><input class=\"sk-toggleable__control sk-hidden--visually\" id=\"sk-estimator-id-1\" type=\"checkbox\" checked><label for=\"sk-estimator-id-1\" class=\"sk-toggleable__label sk-toggleable__label-arrow\">LinearRegression</label><div class=\"sk-toggleable__content\"><pre>LinearRegression()</pre></div></div></div></div></div>"
      ],
      "text/plain": [
       "LinearRegression()"
      ]
     },
     "execution_count": 17,
     "metadata": {},
     "output_type": "execute_result"
    }
   ],
   "source": [
    "#compare with traditional LR\n",
    "from sklearn.linear_model import LinearRegression\n",
    "from sklearn.metrics import mean_absolute_error, mean_squared_error\n",
    "\n",
    "lr = LinearRegression()\n",
    "lr.fit(x_train_norm,y_train)"
   ]
  },
  {
   "cell_type": "code",
   "execution_count": 18,
   "id": "20f79b6a",
   "metadata": {},
   "outputs": [
    {
     "name": "stdout",
     "output_type": "stream",
     "text": [
      "5/5 [==============================] - 0s 3ms/step\n",
      "MSE: 17.458068558992625\n",
      "MAE: 2.6569329537843402\n"
     ]
    }
   ],
   "source": [
    "y_pred_lr = model.predict(x_test_norm)\n",
    "mse_lr = mean_squared_error(y_pred_lr,y_test)\n",
    "mae_lr = mean_absolute_error(y_pred_lr,y_test)\n",
    "print('MSE:',mse_lr)\n",
    "print('MAE:',mae_lr)"
   ]
  },
  {
   "cell_type": "code",
   "execution_count": 19,
   "id": "df4f8c73",
   "metadata": {},
   "outputs": [
    {
     "data": {
      "text/plain": [
       "[PhysicalDevice(name='/physical_device:GPU:0', device_type='GPU')]"
      ]
     },
     "execution_count": 19,
     "metadata": {},
     "output_type": "execute_result"
    }
   ],
   "source": [
    "import tensorflow as tf\n",
    "tf.config.list_physical_devices('GPU')"
   ]
  },
  {
   "cell_type": "code",
   "execution_count": 20,
   "id": "050d217a",
   "metadata": {},
   "outputs": [
    {
     "data": {
      "text/plain": [
       "1"
      ]
     },
     "execution_count": 20,
     "metadata": {},
     "output_type": "execute_result"
    }
   ],
   "source": [
    "len(tf.config.list_physical_devices('GPU'))"
   ]
  },
  {
   "cell_type": "code",
   "execution_count": 22,
   "id": "a4b302a3",
   "metadata": {},
   "outputs": [
    {
     "name": "stdout",
     "output_type": "stream",
     "text": [
      "tf.Tensor(\n",
      "[[22. 28.]\n",
      " [49. 64.]], shape=(2, 2), dtype=float32)\n"
     ]
    }
   ],
   "source": [
    "tf.debugging.set_log_device_placement(True)# Create some tensors\n",
    "a = tf.constant([[1.0, 2.0, 3.0], [4.0, 5.0, 6.0]])\n",
    "b = tf.constant([[1.0, 2.0], [3.0, 4.0], [5.0, 6.0]])\n",
    "c = tf.matmul(a, b)\n",
    "print(c)"
   ]
  }
 ],
 "metadata": {
  "kernelspec": {
   "display_name": "Python 3 (ipykernel)",
   "language": "python",
   "name": "python3"
  },
  "language_info": {
   "codemirror_mode": {
    "name": "ipython",
    "version": 3
   },
   "file_extension": ".py",
   "mimetype": "text/x-python",
   "name": "python",
   "nbconvert_exporter": "python",
   "pygments_lexer": "ipython3",
   "version": "3.10.9"
  }
 },
 "nbformat": 4,
 "nbformat_minor": 5
}
