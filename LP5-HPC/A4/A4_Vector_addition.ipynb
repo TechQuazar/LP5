{
  "nbformat": 4,
  "nbformat_minor": 0,
  "metadata": {
    "colab": {
      "provenance": []
    },
    "kernelspec": {
      "name": "python3",
      "display_name": "Python 3"
    },
    "language_info": {
      "name": "python"
    },
    "accelerator": "GPU",
    "gpuClass": "standard"
  },
  "cells": [
    {
      "cell_type": "code",
      "source": [
        "!nvcc --version\n"
      ],
      "metadata": {
        "id": "sSBxv8kmQrUC",
        "outputId": "bc35a28f-92f1-4e4c-8549-320e345120df",
        "colab": {
          "base_uri": "https://localhost:8080/"
        }
      },
      "execution_count": 1,
      "outputs": [
        {
          "output_type": "stream",
          "name": "stdout",
          "text": [
            "nvcc: NVIDIA (R) Cuda compiler driver\n",
            "Copyright (c) 2005-2022 NVIDIA Corporation\n",
            "Built on Wed_Sep_21_10:33:58_PDT_2022\n",
            "Cuda compilation tools, release 11.8, V11.8.89\n",
            "Build cuda_11.8.r11.8/compiler.31833905_0\n"
          ]
        }
      ]
    },
    {
      "cell_type": "code",
      "source": [
        "!pip install git+https://github.com/andreinechaev/nvcc4jupyter.git\n"
      ],
      "metadata": {
        "colab": {
          "base_uri": "https://localhost:8080/"
        },
        "id": "vQ6YXeCpQ8U1",
        "outputId": "7307c16e-ba49-48a6-bd89-879e1651c66c"
      },
      "execution_count": 2,
      "outputs": [
        {
          "output_type": "stream",
          "name": "stdout",
          "text": [
            "Looking in indexes: https://pypi.org/simple, https://us-python.pkg.dev/colab-wheels/public/simple/\n",
            "Collecting git+https://github.com/andreinechaev/nvcc4jupyter.git\n",
            "  Cloning https://github.com/andreinechaev/nvcc4jupyter.git to /tmp/pip-req-build-yv_z3qmb\n",
            "  Running command git clone --filter=blob:none --quiet https://github.com/andreinechaev/nvcc4jupyter.git /tmp/pip-req-build-yv_z3qmb\n",
            "  Resolved https://github.com/andreinechaev/nvcc4jupyter.git to commit aac710a35f52bb78ab34d2e52517237941399eff\n",
            "  Preparing metadata (setup.py) ... \u001b[?25l\u001b[?25hdone\n",
            "Building wheels for collected packages: NVCCPlugin\n",
            "  Building wheel for NVCCPlugin (setup.py) ... \u001b[?25l\u001b[?25hdone\n",
            "  Created wheel for NVCCPlugin: filename=NVCCPlugin-0.0.2-py3-none-any.whl size=4287 sha256=f8456cc4fac72e80e1b4ea4025de3844b78f148e13f10952a5b90711cf72f585\n",
            "  Stored in directory: /tmp/pip-ephem-wheel-cache-li9vb7a5/wheels/a8/b9/18/23f8ef71ceb0f63297dd1903aedd067e6243a68ea756d6feea\n",
            "Successfully built NVCCPlugin\n",
            "Installing collected packages: NVCCPlugin\n",
            "Successfully installed NVCCPlugin-0.0.2\n"
          ]
        }
      ]
    },
    {
      "cell_type": "code",
      "source": [
        "%load_ext nvcc_plugin\n"
      ],
      "metadata": {
        "colab": {
          "base_uri": "https://localhost:8080/"
        },
        "id": "NqMfvIB0RA8e",
        "outputId": "8adfd622-13e3-4747-fd24-a6e1c864c963"
      },
      "execution_count": 3,
      "outputs": [
        {
          "output_type": "stream",
          "name": "stdout",
          "text": [
            "created output directory at /content/src\n",
            "Out bin /content/result.out\n"
          ]
        }
      ]
    },
    {
      "cell_type": "code",
      "source": [
        "%%cu\n",
        "#include <stdio.h>\n",
        "\n",
        "// In this example we use a very small number of blocks\n",
        "// and threads in those blocks for illustration \n",
        "// on a very small array\n",
        "#define N 10000\n",
        "#define numThread 4 // 2 threads in a block\n",
        "#define numBlock 2500  // 4 blocks\n",
        "\n",
        "/*\n",
        " * 1.\n",
        " *  The 'kernel' function that will be executed on the GPU device hardware.\n",
        " */\n",
        "__global__ void add( int *a, int *b, int *c ) {\n",
        "\n",
        "    // the initial index that this thread will work on\n",
        "    int tid = blockDim.x * blockIdx.x + threadIdx.x;\n",
        "    \n",
        "    // In this above example code, we assume a linear set of blocks of threads in the 'x' dimension,\n",
        "    // which is declared in main below when we run this function.\n",
        "\n",
        "    // The actual computation is being done by individual threads\n",
        "    // in each of the blocks.\n",
        "    // e.g. we use 4 blocks and 2 threads per block (8 threads will run in parallel)\n",
        "    //      and our total array size N is 8\n",
        "    //      the thread whose threadIdx.x is 0 within block 0 will compute c[0],\n",
        "    //          because tid = (2 * 0)  + 0\n",
        "    //      the thread whose threadIdx.x is 0 within block 1 will compute c[2],\n",
        "    //          because tid = (2 * 1) + 0\n",
        "    //      the thread whose threadIdx.x is 1 within block 1 will compute c[3],\n",
        "    //          because tid = (2 * 1) + 1\n",
        "    //\n",
        "    //     The following while loop will execute once for this simple example:\n",
        "    //          c[0] through c[7] will be computed concurrently\n",
        "    //\n",
        "    while (tid < N) {\n",
        "        c[tid] = a[tid] + b[tid];       // The actual computation done by the thread\n",
        "        tid += blockDim.x;       // Increment this thread's index by the number of threads per block:\n",
        "                                 // in this small case, each thread would then have a tid > N\n",
        "    }\n",
        "}\n",
        "\n",
        "\n",
        "/*\n",
        " * The main program that directs the execution of vector add on the GPU\n",
        " */\n",
        "int main( void ) {\n",
        "    int *a, *b, *c;               // The arrays on the host CPU machine\n",
        "    int *dev_a, *dev_b, *dev_c;   // The arrays for the GPU device\n",
        "\n",
        "    // 2.a allocate the memory on the CPU\n",
        "    a = (int*)malloc( N * sizeof(int) );\n",
        "    b = (int*)malloc( N * sizeof(int) );\n",
        "    c = (int*)malloc( N * sizeof(int) );\n",
        "\n",
        "    // 2.b. fill the arrays 'a' and 'b' on the CPU with dummy values\n",
        "    for (int i=0; i<N; i++) {\n",
        "        a[i] = i;\n",
        "        b[i] = i;\n",
        "    }\n",
        "\n",
        "    // 2.c. allocate the memory on the GPU\n",
        "     cudaMalloc( (void**)&dev_a, N * sizeof(int) );\n",
        "     cudaMalloc( (void**)&dev_b, N * sizeof(int) );\n",
        "     cudaMalloc( (void**)&dev_c, N * sizeof(int) );\n",
        "\n",
        "    // 2.d. copy the arrays 'a' and 'b' to the GPU\n",
        "     cudaMemcpy( dev_a, a, N * sizeof(int),\n",
        "                              cudaMemcpyHostToDevice );\n",
        "     cudaMemcpy( dev_b, b, N * sizeof(int),\n",
        "                              cudaMemcpyHostToDevice );\n",
        "\n",
        "    // 3. Execute the vector addition 'kernel function' on th GPU device,\n",
        "    // declaring how many blocks and how many threads per block to use.\n",
        "    add<<<numBlock,numThread>>>( dev_a, dev_b, dev_c );\n",
        "\n",
        "    // 4. copy the array 'c' back from the GPU to the CPU\n",
        "    cudaMemcpy( c, dev_c, N * sizeof(int),\n",
        "                              cudaMemcpyDeviceToHost );\n",
        "\n",
        "    // verify that the GPU did the work we requested\n",
        "    bool success = true;\n",
        "    int total=0;\n",
        "    printf(\"Checking %d values in the array.\\n\", N);\n",
        "    for (int i=0; i<N; i++) {\n",
        "        if ((a[i] + b[i]) != c[i]) {\n",
        "            printf( \"Error:  %d + %d != %d\\n\", a[i], b[i], c[i] );\n",
        "            success = false;\n",
        "        }\n",
        "        total += 1;\n",
        "    }\n",
        "    if (success)  printf( \"We did it, %d values correct!\\n\", total );\n",
        "\n",
        "    // free the memory we allocated on the CPU\n",
        "    free( a );\n",
        "    free( b );\n",
        "    free( c );\n",
        "\n",
        "    // free the memory we allocated on the GPU\n",
        "     cudaFree( dev_a );\n",
        "     cudaFree( dev_b );\n",
        "     cudaFree( dev_c );\n",
        "\n",
        "    return 0;\n",
        "}\n"
      ],
      "metadata": {
        "colab": {
          "base_uri": "https://localhost:8080/"
        },
        "id": "nyvmv-zLRGiE",
        "outputId": "c12fb001-d50c-48f3-8d33-dae02f701b16"
      },
      "execution_count": 4,
      "outputs": [
        {
          "output_type": "stream",
          "name": "stdout",
          "text": [
            "Checking 10000 values in the array.\n",
            "We did it, 10000 values correct!\n",
            "\n"
          ]
        }
      ]
    }
  ]
}